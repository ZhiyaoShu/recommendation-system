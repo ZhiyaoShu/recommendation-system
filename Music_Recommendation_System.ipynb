{
  "cells": [
    {
      "cell_type": "markdown",
      "metadata": {
        "id": "view-in-github",
        "colab_type": "text"
      },
      "source": [
        "<a href=\"https://colab.research.google.com/github/ZhiyaoShu/recommendation-system/blob/main/Music_Recommendation_System.ipynb\" target=\"_parent\"><img src=\"https://colab.research.google.com/assets/colab-badge.svg\" alt=\"Open In Colab\"/></a>"
      ]
    },
    {
      "cell_type": "markdown",
      "metadata": {
        "id": "DyAjEw4OHmDb"
      },
      "source": [
        "# **Music Recommendation System**"
      ]
    },
    {
      "cell_type": "markdown",
      "metadata": {
        "id": "FMCaC7Q_tq1m"
      },
      "source": [
        "### **The objective:**\n",
        "In an era where information overload is commonplace, recommendation systems serve as a crucial interface to curate personalized user experiences, thus helping platforms retain and grow their user base amidst stiff competition. The primary goal of this project is to explore and develop three distinct types of recommendation systems (User Similarity-Based, Model-Based Collaborative, and Cluster-Based Systems). By employing different methodologies, this project aims to practice and clarify each approach in providing accurate and meaningful recommendations.\n"
      ]
    },
    {
      "cell_type": "markdown",
      "metadata": {
        "id": "BVUiyhYTHS1t"
      },
      "source": [
        "## **Data Dictionary**\n",
        "\n",
        "The core data is the Taste Profile Subset released by the Echo Nest as part of the Million Song Dataset. There are two files in this dataset. The first file contains the details about the song id, titles, release, artist name, and the year of release. The second file contains the user id, song id, and the play count of users.\n",
        "\n",
        "song_data\n",
        "\n",
        "song_id - A unique id given to every song\n",
        "\n",
        "title - Title of the song\n",
        "\n",
        "Release - Name of the released album\n",
        "\n",
        "Artist_name - Name of the artist\n",
        "\n",
        "year - Year of release\n",
        "\n",
        "count_data\n",
        "\n",
        "user _id - A unique id given to the user\n",
        "\n",
        "\n",
        "play_count - Number of times the song was played\n",
        "\n",
        "## **Data Source**\n",
        "http://millionsongdataset.com/"
      ]
    },
    {
      "cell_type": "markdown",
      "metadata": {
        "id": "NRJtXkTrHxMQ"
      },
      "source": [
        "### **Importing Libraries and the Dataset**"
      ]
    },
    {
      "cell_type": "code",
      "execution_count": null,
      "metadata": {
        "colab": {
          "base_uri": "https://localhost:8080/"
        },
        "id": "0oHdIcZFQZRB",
        "outputId": "30442014-df63-4522-f5e2-e6e18c7ef513"
      },
      "outputs": [
        {
          "name": "stdout",
          "output_type": "stream",
          "text": [
            "Drive already mounted at /content/drive; to attempt to forcibly remount, call drive.mount(\"/content/drive\", force_remount=True).\n"
          ]
        }
      ],
      "source": [
        "from google.colab import drive\n",
        "drive.mount('/content/drive')"
      ]
    },
    {
      "cell_type": "code",
      "execution_count": null,
      "metadata": {
        "colab": {
          "base_uri": "https://localhost:8080/"
        },
        "id": "R4YvKrpzId3K",
        "outputId": "1d251bc7-defd-4a0f-d988-997ed7679c61"
      },
      "outputs": [
        {
          "name": "stdout",
          "output_type": "stream",
          "text": [
            "Requirement already satisfied: surprise in /usr/local/lib/python3.10/dist-packages (0.1)\n",
            "Requirement already satisfied: scikit-surprise in /usr/local/lib/python3.10/dist-packages (from surprise) (1.1.3)\n",
            "Requirement already satisfied: joblib>=1.0.0 in /usr/local/lib/python3.10/dist-packages (from scikit-surprise->surprise) (1.3.2)\n",
            "Requirement already satisfied: numpy>=1.17.3 in /usr/local/lib/python3.10/dist-packages (from scikit-surprise->surprise) (1.23.5)\n",
            "Requirement already satisfied: scipy>=1.3.2 in /usr/local/lib/python3.10/dist-packages (from scikit-surprise->surprise) (1.11.3)\n"
          ]
        }
      ],
      "source": [
        "import warnings\n",
        "import numpy as np\n",
        "import pandas as pd\n",
        "import matplotlib.pyplot as plt\n",
        "import seaborn as sn\n",
        "import pandas as pd\n",
        "import io\n",
        "\n",
        "from sklearn.metrics.pairwise import cosine_similarity\n",
        "from collections import defaultdict\n",
        "from sklearn.metrics import mean_squared_error\n",
        "from sklearn.preprocessing import LabelEncoder\n",
        "\n",
        "!pip install surprise\n",
        "import surprise as se\n",
        "\n",
        "# Import necessary libraries\n",
        "from sklearn.metrics.pairwise import cosine_similarity\n",
        "from sklearn.model_selection import train_test_split, KFold\n",
        "from sklearn.metrics import mean_squared_error\n",
        "from sklearn.cluster import KMeans\n",
        "from scipy.sparse import csr_matrix\n",
        "from sklearn.neighbors import NearestNeighbors\n",
        "from math import sqrt\n",
        "from surprise.model_selection import GridSearchCV\n",
        "from surprise import Dataset, Reader\n",
        "from surprise.model_selection import train_test_split\n",
        "from surprise import Dataset, Reader, KNNWithMeans, accuracy\n",
        "from surprise import KNNBasic\n",
        "from surprise import accuracy\n",
        "\n",
        "from surprise import accuracy\n",
        "from surprise.model_selection import train_test_split\n",
        "from surprise import Dataset, Reader, SVD\n",
        "\n",
        "from sklearn.decomposition import TruncatedSVD\n",
        "from scipy.sparse import csr_matrix"
      ]
    },
    {
      "cell_type": "markdown",
      "metadata": {
        "id": "bUGKX140wf-S"
      },
      "source": [
        "### **Load the dataset**"
      ]
    },
    {
      "cell_type": "code",
      "execution_count": null,
      "metadata": {
        "id": "si6ulhIYImck"
      },
      "outputs": [],
      "source": [
        "df_songs = pd.read_csv('/content/drive/MyDrive/000/song_data.csv')\n",
        "df_counts = pd.read_csv('/content/drive/MyDrive/000/count_data.csv')\n"
      ]
    },
    {
      "cell_type": "markdown",
      "metadata": {
        "id": "12TKB2M7XyC6"
      },
      "source": [
        "### **Understanding the data by viewing a few observations**"
      ]
    },
    {
      "cell_type": "code",
      "execution_count": null,
      "metadata": {
        "colab": {
          "base_uri": "https://localhost:8080/"
        },
        "id": "GCLzBuYiXlPM",
        "outputId": "a82395fa-2220-479f-c08e-3453ca7c8611"
      },
      "outputs": [
        {
          "name": "stdout",
          "output_type": "stream",
          "text": [
            "              song_id                                              title  \\\n",
            "0  SOQMMHC12AB0180CB8                                       Silent Night   \n",
            "1  SOVFVAK12A8C1350D9                                        Tanssi vaan   \n",
            "2  SOGTUKN12AB017F4F1                                  No One Could Ever   \n",
            "3  SOBNYVR12A8C13558C                                      Si Vos Querés   \n",
            "4  SOHSBXH12A8C13B0DF                                   Tangle Of Aspens   \n",
            "5  SOZVAPQ12A8C13B63C  Symphony No. 1 G minor \"Sinfonie Serieuse\"/All...   \n",
            "6  SOQVRHI12A6D4FB2D7                                   We Have Got Love   \n",
            "7  SOEYRFT12AB018936C                                  2 Da Beat Ch'yall   \n",
            "8  SOPMIYT12A6D4F851E                                            Goodbye   \n",
            "9  SOJCFMH12A8C13B0C2                         Mama_ mama can't you see ?   \n",
            "\n",
            "                                release  \\\n",
            "0                 Monster Ballads X-Mas   \n",
            "1                           Karkuteillä   \n",
            "2                                Butter   \n",
            "3                               De Culo   \n",
            "4  Rene Ablaze Presents Winter Sessions   \n",
            "5      Berwald: Symphonies Nos. 1/2/3/4   \n",
            "6             Strictly The Best Vol. 34   \n",
            "7                               Da Bomb   \n",
            "8                             Danny Boy   \n",
            "9  March to cadence with the US marines   \n",
            "\n",
            "                                      artist_name  year  \n",
            "0                                Faster Pussy cat  2003  \n",
            "1                                Karkkiautomaatti  1995  \n",
            "2                                  Hudson Mohawke  2006  \n",
            "3                                     Yerba Brava  2003  \n",
            "4                                      Der Mystic     0  \n",
            "5                                David Montgomery     0  \n",
            "6                              Sasha / Turbulence     0  \n",
            "7                                      Kris Kross  1993  \n",
            "8                                    Joseph Locke     0  \n",
            "9  The Sun Harbor's Chorus-Documentary Recordings     0  \n"
          ]
        }
      ],
      "source": [
        "# See top 10 records of songs_df data\n",
        "print(df_songs.head(10))"
      ]
    },
    {
      "cell_type": "code",
      "execution_count": null,
      "metadata": {
        "colab": {
          "base_uri": "https://localhost:8080/"
        },
        "id": "tV1ed0ApXpu3",
        "outputId": "51757a17-1b60-41e0-9c73-c6ba4388f79f"
      },
      "outputs": [
        {
          "name": "stdout",
          "output_type": "stream",
          "text": [
            "   Unnamed: 0                                   user_id             song_id  \\\n",
            "0           0  b80344d063b5ccb3212f76538f3d9e43d87dca9e  SOAKIMP12A8C130995   \n",
            "1           1  b80344d063b5ccb3212f76538f3d9e43d87dca9e  SOBBMDR12A8C13253B   \n",
            "2           2  b80344d063b5ccb3212f76538f3d9e43d87dca9e  SOBXHDL12A81C204C0   \n",
            "3           3  b80344d063b5ccb3212f76538f3d9e43d87dca9e  SOBYHAJ12A6701BF1D   \n",
            "4           4  b80344d063b5ccb3212f76538f3d9e43d87dca9e  SODACBL12A8C13C273   \n",
            "5           5  b80344d063b5ccb3212f76538f3d9e43d87dca9e  SODDNQT12A6D4F5F7E   \n",
            "6           6  b80344d063b5ccb3212f76538f3d9e43d87dca9e  SODXRTY12AB0180F3B   \n",
            "7           7  b80344d063b5ccb3212f76538f3d9e43d87dca9e  SOFGUAY12AB017B0A8   \n",
            "8           8  b80344d063b5ccb3212f76538f3d9e43d87dca9e  SOFRQTD12A81C233C0   \n",
            "9           9  b80344d063b5ccb3212f76538f3d9e43d87dca9e  SOHQWYZ12A6D4FA701   \n",
            "\n",
            "   play_count  \n",
            "0           1  \n",
            "1           2  \n",
            "2           1  \n",
            "3           1  \n",
            "4           1  \n",
            "5           5  \n",
            "6           1  \n",
            "7           1  \n",
            "8           1  \n",
            "9           1  \n"
          ]
        }
      ],
      "source": [
        "# See top 10 records of counts_df data\n",
        "print(df_counts.head(10))\n"
      ]
    },
    {
      "cell_type": "markdown",
      "metadata": {
        "id": "bvKb5FHcXzcN"
      },
      "source": [
        "### **Check the data types and and missing values of each column**"
      ]
    },
    {
      "cell_type": "code",
      "execution_count": null,
      "metadata": {
        "colab": {
          "base_uri": "https://localhost:8080/"
        },
        "id": "yyoHc_cnX19J",
        "outputId": "ad3b1d72-db47-46f8-e85b-accb7a163b05"
      },
      "outputs": [
        {
          "name": "stdout",
          "output_type": "stream",
          "text": [
            "<class 'pandas.core.frame.DataFrame'>\n",
            "RangeIndex: 2000000 entries, 0 to 1999999\n",
            "Data columns (total 4 columns):\n",
            " #   Column      Dtype \n",
            "---  ------      ----- \n",
            " 0   Unnamed: 0  int64 \n",
            " 1   user_id     object\n",
            " 2   song_id     object\n",
            " 3   play_count  int64 \n",
            "dtypes: int64(2), object(2)\n",
            "memory usage: 61.0+ MB\n",
            "None\n"
          ]
        }
      ],
      "source": [
        "# See the info of the counts_df data\n",
        "print(df_counts.info())\n"
      ]
    },
    {
      "cell_type": "code",
      "execution_count": null,
      "metadata": {
        "colab": {
          "base_uri": "https://localhost:8080/"
        },
        "id": "rz3zDx_LX42y",
        "outputId": "ce95326e-7351-49ae-ca32-8083563d0698"
      },
      "outputs": [
        {
          "name": "stdout",
          "output_type": "stream",
          "text": [
            "<class 'pandas.core.frame.DataFrame'>\n",
            "RangeIndex: 1000000 entries, 0 to 999999\n",
            "Data columns (total 5 columns):\n",
            " #   Column       Non-Null Count    Dtype \n",
            "---  ------       --------------    ----- \n",
            " 0   song_id      1000000 non-null  object\n",
            " 1   title        999985 non-null   object\n",
            " 2   release      999995 non-null   object\n",
            " 3   artist_name  1000000 non-null  object\n",
            " 4   year         1000000 non-null  int64 \n",
            "dtypes: int64(1), object(4)\n",
            "memory usage: 38.1+ MB\n",
            "None\n"
          ]
        }
      ],
      "source": [
        "# See the info of the songs_df data\n",
        "print(df_songs.info())"
      ]
    },
    {
      "cell_type": "code",
      "execution_count": null,
      "metadata": {
        "colab": {
          "base_uri": "https://localhost:8080/"
        },
        "id": "oTeurvID2T9U",
        "outputId": "86922d84-5076-44c9-d45a-64529bd338eb"
      },
      "outputs": [
        {
          "name": "stdout",
          "output_type": "stream",
          "text": [
            "                                    user_id             song_id  play_count  \\\n",
            "0  b80344d063b5ccb3212f76538f3d9e43d87dca9e  SOAKIMP12A8C130995           1   \n",
            "1  b80344d063b5ccb3212f76538f3d9e43d87dca9e  SOBBMDR12A8C13253B           2   \n",
            "2  b80344d063b5ccb3212f76538f3d9e43d87dca9e  SOBXHDL12A81C204C0           1   \n",
            "3  b80344d063b5ccb3212f76538f3d9e43d87dca9e  SOBYHAJ12A6701BF1D           1   \n",
            "4  b80344d063b5ccb3212f76538f3d9e43d87dca9e  SODACBL12A8C13C273           1   \n",
            "5  b80344d063b5ccb3212f76538f3d9e43d87dca9e  SODDNQT12A6D4F5F7E           5   \n",
            "6  b80344d063b5ccb3212f76538f3d9e43d87dca9e  SODXRTY12AB0180F3B           1   \n",
            "7  b80344d063b5ccb3212f76538f3d9e43d87dca9e  SOFGUAY12AB017B0A8           1   \n",
            "8  b80344d063b5ccb3212f76538f3d9e43d87dca9e  SOFRQTD12A81C233C0           1   \n",
            "9  b80344d063b5ccb3212f76538f3d9e43d87dca9e  SOHQWYZ12A6D4FA701           1   \n",
            "\n",
            "                           title                                release  \\\n",
            "0                       The Cove                     Thicker Than Water   \n",
            "1                Entre Dos Aguas                    Flamenco Para Niños   \n",
            "2                       Stronger                             Graduation   \n",
            "3                 Constellations                      In Between Dreams   \n",
            "4                   Learn To Fly          There Is Nothing Left To Lose   \n",
            "5   Apuesta Por El Rock 'N' Roll                  Antología Audiovisual   \n",
            "6                  Paper Gangsta                       The Fame Monster   \n",
            "7                 Stacked Actors          There Is Nothing Left To Lose   \n",
            "8                  Sehr kosmisch                     Musik von Harmonia   \n",
            "9  Heaven's gonna burn your eyes  Hôtel Costes 7 by Stéphane Pompougnac   \n",
            "\n",
            "                                   artist_name  year  \n",
            "0                                 Jack Johnson     0  \n",
            "1                                Paco De Lucia  1976  \n",
            "2                                   Kanye West  2007  \n",
            "3                                 Jack Johnson  2005  \n",
            "4                                 Foo Fighters  1999  \n",
            "5                          Héroes del Silencio  2007  \n",
            "6                                    Lady GaGa  2008  \n",
            "7                                 Foo Fighters  1999  \n",
            "8                                     Harmonia     0  \n",
            "9  Thievery Corporation feat. Emiliana Torrini  2002  \n"
          ]
        }
      ],
      "source": [
        "# Left merge the counts and songs data on \"song_id\". Drop duplicates from song_df data simultaneously\n",
        "df_songs = df_songs.drop_duplicates(subset='song_id')\n",
        "df_merge = df_counts.merge(df_songs, on='song_id',how='left')\n",
        "\n",
        "# Drop the column 'Unnamed: 0'\n",
        "merged_df = df_merge.drop(columns=['Unnamed: 0'])\n",
        "## Name the obtained dataframe as \"df\"\n",
        "df = merged_df\n",
        "\n",
        "print(df.head(10))"
      ]
    },
    {
      "cell_type": "code",
      "execution_count": null,
      "metadata": {
        "colab": {
          "base_uri": "https://localhost:8080/"
        },
        "id": "oxeoOVxh2T9U",
        "outputId": "22863df1-a280-46dd-cdf5-e428fc0997f1"
      },
      "outputs": [
        {
          "name": "stdout",
          "output_type": "stream",
          "text": [
            "   user_id  song_id  play_count                          title  \\\n",
            "0    54961      153           1                       The Cove   \n",
            "1    54961      413           2                Entre Dos Aguas   \n",
            "2    54961      736           1                       Stronger   \n",
            "3    54961      750           1                 Constellations   \n",
            "4    54961     1188           1                   Learn To Fly   \n",
            "5    54961     1239           5   Apuesta Por El Rock 'N' Roll   \n",
            "6    54961     1536           1                  Paper Gangsta   \n",
            "7    54961     2056           1                 Stacked Actors   \n",
            "8    54961     2220           1                  Sehr kosmisch   \n",
            "9    54961     3046           1  Heaven's gonna burn your eyes   \n",
            "\n",
            "                                 release  \\\n",
            "0                     Thicker Than Water   \n",
            "1                    Flamenco Para Niños   \n",
            "2                             Graduation   \n",
            "3                      In Between Dreams   \n",
            "4          There Is Nothing Left To Lose   \n",
            "5                  Antología Audiovisual   \n",
            "6                       The Fame Monster   \n",
            "7          There Is Nothing Left To Lose   \n",
            "8                     Musik von Harmonia   \n",
            "9  Hôtel Costes 7 by Stéphane Pompougnac   \n",
            "\n",
            "                                   artist_name  year  \n",
            "0                                 Jack Johnson     0  \n",
            "1                                Paco De Lucia  1976  \n",
            "2                                   Kanye West  2007  \n",
            "3                                 Jack Johnson  2005  \n",
            "4                                 Foo Fighters  1999  \n",
            "5                          Héroes del Silencio  2007  \n",
            "6                                    Lady GaGa  2008  \n",
            "7                                 Foo Fighters  1999  \n",
            "8                                     Harmonia     0  \n",
            "9  Thievery Corporation feat. Emiliana Torrini  2002  \n"
          ]
        }
      ],
      "source": [
        "# Apply label encoding for \"user_id\" and \"song_id\"\n",
        "# Create a label encoder object\n",
        "le = LabelEncoder()\n",
        "\n",
        "# Label encoding for 'user_id'\n",
        "df['user_id'] = le.fit_transform(df['user_id'])\n",
        "\n",
        "# Reset the label encoder and do label encoding for 'song_id'\n",
        "df['song_id'] = le.fit_transform(df['song_id'])\n",
        "\n",
        "print (df.head(10))"
      ]
    },
    {
      "cell_type": "markdown",
      "metadata": {
        "id": "gcY5LKAQvk9J"
      },
      "source": [
        "A dataset of size 2000000 rows x 7 columns can be quite large and may require a lot of computing resources to process. This can lead to long processing times and can make it difficult to train and evaluate your model efficiently.\n",
        "In order to address this issue, it may be necessary to trim down the dataset to a more manageable size."
      ]
    },
    {
      "cell_type": "code",
      "execution_count": null,
      "metadata": {
        "id": "7GGH9TW0_9uX"
      },
      "outputs": [],
      "source": [
        "# Get the column containing the users\n",
        "users = df.user_id\n",
        "\n",
        "# Create a dictionary from users to their number of songs\n",
        "ratings_count = dict()\n",
        "for user in users:\n",
        "    # If we already have the user, just add 1 to their rating count\n",
        "    if user in ratings_count:\n",
        "        ratings_count[user] += 1\n",
        "    # Otherwise, set their rating count to 1\n",
        "    else:\n",
        "        ratings_count[user] = 1"
      ]
    },
    {
      "cell_type": "code",
      "execution_count": null,
      "metadata": {
        "id": "-cc6mOK7_9uX"
      },
      "outputs": [],
      "source": [
        "# We want our users to have listened at least 90 songs\n",
        "RATINGS_CUTOFF = 90\n",
        "remove_users = []\n",
        "for user, num_ratings in ratings_count.items():\n",
        "    if num_ratings < RATINGS_CUTOFF:\n",
        "        remove_users.append(user)\n",
        "df = df.loc[~df.user_id.isin(remove_users)]"
      ]
    },
    {
      "cell_type": "code",
      "execution_count": null,
      "metadata": {
        "id": "B5BS-Wk5_9uY"
      },
      "outputs": [],
      "source": [
        "# Get the column containing the songs\n",
        "songs = df.song_id\n",
        "# Create a dictionary from songs to their number of users\n",
        "ratings_count = dict()\n",
        "for song in songs:\n",
        "    # If we already have the song, just add 1 to their rating count\n",
        "    if song in ratings_count:\n",
        "        ratings_count[song] += 1\n",
        "    # Otherwise, set their rating count to 1\n",
        "    else:\n",
        "        ratings_count[song] = 1"
      ]
    },
    {
      "cell_type": "code",
      "execution_count": null,
      "metadata": {
        "id": "_nCtGwGO_9uY"
      },
      "outputs": [],
      "source": [
        "# We want our song to be listened by at least 120 users to be considred\n",
        "RATINGS_CUTOFF = 120\n",
        "remove_songs = []\n",
        "for song, num_ratings in ratings_count.items():\n",
        "    if num_ratings < RATINGS_CUTOFF:\n",
        "        remove_songs.append(song)\n",
        "df_final= df.loc[~df.song_id.isin(remove_songs)]"
      ]
    },
    {
      "cell_type": "code",
      "execution_count": null,
      "metadata": {
        "id": "8qaKeoMcGpad"
      },
      "outputs": [],
      "source": [
        "# Records with play_count more than(>) 5\n",
        "df=df_final[df_final.play_count>5]"
      ]
    },
    {
      "cell_type": "code",
      "execution_count": null,
      "metadata": {
        "colab": {
          "base_uri": "https://localhost:8080/"
        },
        "id": "aL1JZ00o5JtQ",
        "outputId": "ca68c503-08e6-45dd-a768-0782d0d00f44"
      },
      "outputs": [
        {
          "name": "stdout",
          "output_type": "stream",
          "text": [
            "(12522, 7)\n",
            "     user_id  song_id  play_count                       title  \\\n",
            "356    27018      198          20                       Rorol   \n",
            "359    27018      248           7                    Auto-Dub   \n",
            "365    27018      318          11  Hilarious Movie Of The 90s   \n",
            "386    27018      926          11      One Minute To Midnight   \n",
            "402    27018     1262           6              Lights & Music   \n",
            "\n",
            "                   release      artist_name  year  \n",
            "356  Identification Parade  Octopus Project  2002  \n",
            "359                Skream!           Skream  2006  \n",
            "365                  Pause         Four Tet  2001  \n",
            "386                Justice          Justice     0  \n",
            "402         Lights & Music         Cut Copy  2008  \n"
          ]
        }
      ],
      "source": [
        "# Check the shape of the data\n",
        "print(df.shape)\n",
        "print(df.head())"
      ]
    },
    {
      "cell_type": "markdown",
      "metadata": {
        "id": "uZcr1Eke2T9W"
      },
      "source": [
        "## **Exploratory Data Analysis**"
      ]
    },
    {
      "cell_type": "markdown",
      "metadata": {
        "id": "DE_gukSJ2T9W"
      },
      "source": [
        "**Total number of unique user id**"
      ]
    },
    {
      "cell_type": "code",
      "execution_count": null,
      "metadata": {
        "colab": {
          "base_uri": "https://localhost:8080/"
        },
        "id": "n5E24_Ec2T9W",
        "outputId": "f9531b02-f66a-4ebd-a96c-edde824ac227"
      },
      "outputs": [
        {
          "name": "stdout",
          "output_type": "stream",
          "text": [
            "Total number of unique user_id: 3156\n"
          ]
        }
      ],
      "source": [
        "# Display total number of unique user_id\n",
        "unique_users = df_final['user_id'].nunique()\n",
        "print(f\"Total number of unique user_id: {unique_users}\")"
      ]
    },
    {
      "cell_type": "code",
      "execution_count": null,
      "metadata": {
        "colab": {
          "base_uri": "https://localhost:8080/"
        },
        "id": "5SlpPkIE2T9W",
        "outputId": "73e4a037-b123-4a78-f995-3fcb80711b6e"
      },
      "outputs": [
        {
          "name": "stdout",
          "output_type": "stream",
          "text": [
            "Total number of unique song_id: 563\n"
          ]
        }
      ],
      "source": [
        "# Total number of unique song_id\n",
        "unique_songs = df_final['song_id'].nunique()\n",
        "print(f\"Total number of unique song_id: {unique_songs}\")"
      ]
    },
    {
      "cell_type": "markdown",
      "metadata": {
        "id": "eGXPsCjXVpUW"
      },
      "source": [
        "**Total number of unique artists**"
      ]
    },
    {
      "cell_type": "code",
      "execution_count": null,
      "metadata": {
        "colab": {
          "base_uri": "https://localhost:8080/"
        },
        "id": "qSVUwb8h2T9X",
        "outputId": "b3e59359-5a04-49a1-e154-f5315111857b"
      },
      "outputs": [
        {
          "name": "stdout",
          "output_type": "stream",
          "text": [
            "Total number of unique artists: 232\n"
          ]
        }
      ],
      "source": [
        "# Total number of unique artists\n",
        "unique_artists = df_final['artist_name'].nunique()\n",
        "print(f\"Total number of unique artists: {unique_artists}\")"
      ]
    },
    {
      "cell_type": "markdown",
      "metadata": {
        "id": "joFF5zndX1Dk"
      },
      "source": [
        "**Songs played in a year**"
      ]
    },
    {
      "cell_type": "code",
      "execution_count": null,
      "metadata": {
        "id": "bQp2iVMC2T9Y"
      },
      "outputs": [],
      "source": [
        "df_final = df.dropna(subset=['year'])\n",
        "df_final = df[df['year'] != 0]\n",
        "\n",
        "songs_in_a_year=df_final.groupby('year')['song_id'].nunique()"
      ]
    },
    {
      "cell_type": "code",
      "execution_count": null,
      "metadata": {
        "colab": {
          "base_uri": "https://localhost:8080/",
          "height": 578
        },
        "id": "bZCkOiAB2T9Y",
        "outputId": "12f8a130-cb5b-430c-9804-7195936019af"
      },
      "outputs": [
        {
          "data": {
            "image/png": "[encoded data removed]",
            "text/plain": [
              "<Figure size 1000x600 with 1 Axes>"
            ]
          },
          "metadata": {},
          "output_type": "display_data"
        }
      ],
      "source": [
        "# Create a barplot plot with y label as \"number of titles played\" and x -axis year\n",
        "plt.figure(figsize = (10, 6))\n",
        "sn.barplot(x=songs_in_a_year.index, y=songs_in_a_year.values, palette=\"viridis\")\n",
        "\n",
        "\n",
        "plt.title(\"Number of Titles Played Per Year\")\n",
        "plt.ylabel(\"Number of Titles Played\")\n",
        "plt.xlabel(\"Year\")\n",
        "plt.xticks(rotation=45)\n",
        "plt.tight_layout()\n",
        "plt.show()"
      ]
    },
    {
      "cell_type": "markdown",
      "metadata": {
        "id": "9VThYg7voGIz"
      },
      "source": [
        "## **Building various models**"
      ]
    },
    {
      "cell_type": "markdown",
      "metadata": {
        "id": "Ituk9wA4Idib"
      },
      "source": [
        "### Popularity-Based Recommendation Systems"
      ]
    },
    {
      "cell_type": "markdown",
      "metadata": {
        "id": "462hsbxaI1ED"
      },
      "source": [
        "Let's take the count and sum of play counts of the songs and build the popularity recommendation systems based on the sum of play counts."
      ]
    },
    {
      "cell_type": "code",
      "execution_count": null,
      "metadata": {
        "colab": {
          "base_uri": "https://localhost:8080/"
        },
        "id": "UXhBZlDE-jEu",
        "outputId": "0ad06a6e-f92f-4217-b54a-9c99ed1041de"
      },
      "outputs": [
        {
          "name": "stdout",
          "output_type": "stream",
          "text": [
            "song_id\n",
            "0       3.439394\n",
            "2       2.358209\n",
            "4       2.131579\n",
            "5       5.607692\n",
            "6       1.920455\n",
            "          ...   \n",
            "9993    1.943396\n",
            "9994    4.396947\n",
            "9996    1.833333\n",
            "9997    2.731092\n",
            "9998    1.526316\n",
            "Name: play_count, Length: 8227, dtype: float64\n",
            "song_id\n",
            "0        66\n",
            "2        67\n",
            "4       190\n",
            "5       130\n",
            "6        88\n",
            "       ... \n",
            "9993    106\n",
            "9994    131\n",
            "9996    138\n",
            "9997    119\n",
            "9998     76\n",
            "Name: play_count, Length: 8227, dtype: int64\n"
          ]
        }
      ],
      "source": [
        "# Calculating average play_count\n",
        "play_count = df_final.groupby(\"song_id\")['play_count'].mean()\n",
        "\n",
        "# Calculating the frequency a song is played\n",
        "play_freq = df_final.groupby(\"song_id\")['play_count'].size()\n",
        "\n",
        "print(play_count)\n",
        "print(play_freq)"
      ]
    },
    {
      "cell_type": "code",
      "execution_count": null,
      "metadata": {
        "colab": {
          "base_uri": "https://localhost:8080/",
          "height": 206
        },
        "id": "v2XYdXvWdyys",
        "outputId": "6d408dd3-96c2-4228-e560-626022621824"
      },
      "outputs": [
        {
          "data": {
            "text/html": [
              "\n",
              "  <div id=\"df-6ad493f9-e157-41c8-b1a7-77d93b972ea3\" class=\"colab-df-container\">\n",
              "    <div>\n",
              "<style scoped>\n",
              "    .dataframe tbody tr th:only-of-type {\n",
              "        vertical-align: middle;\n",
              "    }\n",
              "\n",
              "    .dataframe tbody tr th {\n",
              "        vertical-align: top;\n",
              "    }\n",
              "\n",
              "    .dataframe thead th {\n",
              "        text-align: right;\n",
              "    }\n",
              "</style>\n",
              "<table border=\"1\" class=\"dataframe\">\n",
              "  <thead>\n",
              "    <tr style=\"text-align: right;\">\n",
              "      <th></th>\n",
              "      <th>average_play</th>\n",
              "      <th>song_frequency</th>\n",
              "    </tr>\n",
              "  </thead>\n",
              "  <tbody>\n",
              "    <tr>\n",
              "      <th>0</th>\n",
              "      <td>18.158228</td>\n",
              "      <td>158</td>\n",
              "    </tr>\n",
              "    <tr>\n",
              "      <th>1</th>\n",
              "      <td>16.891892</td>\n",
              "      <td>148</td>\n",
              "    </tr>\n",
              "    <tr>\n",
              "      <th>2</th>\n",
              "      <td>16.037500</td>\n",
              "      <td>80</td>\n",
              "    </tr>\n",
              "    <tr>\n",
              "      <th>3</th>\n",
              "      <td>15.976000</td>\n",
              "      <td>125</td>\n",
              "    </tr>\n",
              "    <tr>\n",
              "      <th>4</th>\n",
              "      <td>15.171756</td>\n",
              "      <td>262</td>\n",
              "    </tr>\n",
              "  </tbody>\n",
              "</table>\n",
              "</div>\n",
              "    <div class=\"colab-df-buttons\">\n",
              "\n",
              "  <div class=\"colab-df-container\">\n",
              "    <button class=\"colab-df-convert\" onclick=\"convertToInteractive('df-6ad493f9-e157-41c8-b1a7-77d93b972ea3')\"\n",
              "            title=\"Convert this dataframe to an interactive table.\"\n",
              "            style=\"display:none;\">\n",
              "\n",
              "  <svg xmlns=\"http://www.w3.org/2000/svg\" height=\"24px\" viewBox=\"0 -960 960 960\">\n",
              "    <path d=\"M120-120v-720h720v720H120Zm60-500h600v-160H180v160Zm220 220h160v-160H400v160Zm0 220h160v-160H400v160ZM180-400h160v-160H180v160Zm440 0h160v-160H620v160ZM180-180h160v-160H180v160Zm440 0h160v-160H620v160Z\"/>\n",
              "  </svg>\n",
              "    </button>\n",
              "\n",
              "  <style>\n",
              "    .colab-df-container {\n",
              "      display:flex;\n",
              "      gap: 12px;\n",
              "    }\n",
              "\n",
              "    .colab-df-convert {\n",
              "      background-color: #E8F0FE;\n",
              "      border: none;\n",
              "      border-radius: 50%;\n",
              "      cursor: pointer;\n",
              "      display: none;\n",
              "      fill: #1967D2;\n",
              "      height: 32px;\n",
              "      padding: 0 0 0 0;\n",
              "      width: 32px;\n",
              "    }\n",
              "\n",
              "    .colab-df-convert:hover {\n",
              "      background-color: #E2EBFA;\n",
              "      box-shadow: 0px 1px 2px rgba(60, 64, 67, 0.3), 0px 1px 3px 1px rgba(60, 64, 67, 0.15);\n",
              "      fill: #174EA6;\n",
              "    }\n",
              "\n",
              "    .colab-df-buttons div {\n",
              "      margin-bottom: 4px;\n",
              "    }\n",
              "\n",
              "    [theme=dark] .colab-df-convert {\n",
              "      background-color: #3B4455;\n",
              "      fill: #D2E3FC;\n",
              "    }\n",
              "\n",
              "    [theme=dark] .colab-df-convert:hover {\n",
              "      background-color: #434B5C;\n",
              "      box-shadow: 0px 1px 3px 1px rgba(0, 0, 0, 0.15);\n",
              "      filter: drop-shadow(0px 1px 2px rgba(0, 0, 0, 0.3));\n",
              "      fill: #FFFFFF;\n",
              "    }\n",
              "  </style>\n",
              "\n",
              "    <script>\n",
              "      const buttonEl =\n",
              "        document.querySelector('#df-6ad493f9-e157-41c8-b1a7-77d93b972ea3 button.colab-df-convert');\n",
              "      buttonEl.style.display =\n",
              "        google.colab.kernel.accessAllowed ? 'block' : 'none';\n",
              "\n",
              "      async function convertToInteractive(key) {\n",
              "        const element = document.querySelector('#df-6ad493f9-e157-41c8-b1a7-77d93b972ea3');\n",
              "        const dataTable =\n",
              "          await google.colab.kernel.invokeFunction('convertToInteractive',\n",
              "                                                    [key], {});\n",
              "        if (!dataTable) return;\n",
              "\n",
              "        const docLinkHtml = 'Like what you see? Visit the ' +\n",
              "          '<a target=\"_blank\" href=https://colab.research.google.com/notebooks/data_table.ipynb>data table notebook</a>'\n",
              "          + ' to learn more about interactive tables.';\n",
              "        element.innerHTML = '';\n",
              "        dataTable['output_type'] = 'display_data';\n",
              "        await google.colab.output.renderOutput(dataTable, element);\n",
              "        const docLink = document.createElement('div');\n",
              "        docLink.innerHTML = docLinkHtml;\n",
              "        element.appendChild(docLink);\n",
              "      }\n",
              "    </script>\n",
              "  </div>\n",
              "\n",
              "\n",
              "<div id=\"df-68e671e1-b2c8-4a50-9991-84d27e77df98\">\n",
              "  <button class=\"colab-df-quickchart\" onclick=\"quickchart('df-68e671e1-b2c8-4a50-9991-84d27e77df98')\"\n",
              "            title=\"Suggest charts\"\n",
              "            style=\"display:none;\">\n",
              "\n",
              "<svg xmlns=\"http://www.w3.org/2000/svg\" height=\"24px\"viewBox=\"0 0 24 24\"\n",
              "     width=\"24px\">\n",
              "    <g>\n",
              "        <path d=\"M19 3H5c-1.1 0-2 .9-2 2v14c0 1.1.9 2 2 2h14c1.1 0 2-.9 2-2V5c0-1.1-.9-2-2-2zM9 17H7v-7h2v7zm4 0h-2V7h2v10zm4 0h-2v-4h2v4z\"/>\n",
              "    </g>\n",
              "</svg>\n",
              "  </button>\n",
              "\n",
              "<style>\n",
              "  .colab-df-quickchart {\n",
              "      --bg-color: #E8F0FE;\n",
              "      --fill-color: #1967D2;\n",
              "      --hover-bg-color: #E2EBFA;\n",
              "      --hover-fill-color: #174EA6;\n",
              "      --disabled-fill-color: #AAA;\n",
              "      --disabled-bg-color: #DDD;\n",
              "  }\n",
              "\n",
              "  [theme=dark] .colab-df-quickchart {\n",
              "      --bg-color: #3B4455;\n",
              "      --fill-color: #D2E3FC;\n",
              "      --hover-bg-color: #434B5C;\n",
              "      --hover-fill-color: #FFFFFF;\n",
              "      --disabled-bg-color: #3B4455;\n",
              "      --disabled-fill-color: #666;\n",
              "  }\n",
              "\n",
              "  .colab-df-quickchart {\n",
              "    background-color: var(--bg-color);\n",
              "    border: none;\n",
              "    border-radius: 50%;\n",
              "    cursor: pointer;\n",
              "    display: none;\n",
              "    fill: var(--fill-color);\n",
              "    height: 32px;\n",
              "    padding: 0;\n",
              "    width: 32px;\n",
              "  }\n",
              "\n",
              "  .colab-df-quickchart:hover {\n",
              "    background-color: var(--hover-bg-color);\n",
              "    box-shadow: 0 1px 2px rgba(60, 64, 67, 0.3), 0 1px 3px 1px rgba(60, 64, 67, 0.15);\n",
              "    fill: var(--button-hover-fill-color);\n",
              "  }\n",
              "\n",
              "  .colab-df-quickchart-complete:disabled,\n",
              "  .colab-df-quickchart-complete:disabled:hover {\n",
              "    background-color: var(--disabled-bg-color);\n",
              "    fill: var(--disabled-fill-color);\n",
              "    box-shadow: none;\n",
              "  }\n",
              "\n",
              "  .colab-df-spinner {\n",
              "    border: 2px solid var(--fill-color);\n",
              "    border-color: transparent;\n",
              "    border-bottom-color: var(--fill-color);\n",
              "    animation:\n",
              "      spin 1s steps(1) infinite;\n",
              "  }\n",
              "\n",
              "  @keyframes spin {\n",
              "    0% {\n",
              "      border-color: transparent;\n",
              "      border-bottom-color: var(--fill-color);\n",
              "      border-left-color: var(--fill-color);\n",
              "    }\n",
              "    20% {\n",
              "      border-color: transparent;\n",
              "      border-left-color: var(--fill-color);\n",
              "      border-top-color: var(--fill-color);\n",
              "    }\n",
              "    30% {\n",
              "      border-color: transparent;\n",
              "      border-left-color: var(--fill-color);\n",
              "      border-top-color: var(--fill-color);\n",
              "      border-right-color: var(--fill-color);\n",
              "    }\n",
              "    40% {\n",
              "      border-color: transparent;\n",
              "      border-right-color: var(--fill-color);\n",
              "      border-top-color: var(--fill-color);\n",
              "    }\n",
              "    60% {\n",
              "      border-color: transparent;\n",
              "      border-right-color: var(--fill-color);\n",
              "    }\n",
              "    80% {\n",
              "      border-color: transparent;\n",
              "      border-right-color: var(--fill-color);\n",
              "      border-bottom-color: var(--fill-color);\n",
              "    }\n",
              "    90% {\n",
              "      border-color: transparent;\n",
              "      border-bottom-color: var(--fill-color);\n",
              "    }\n",
              "  }\n",
              "</style>\n",
              "\n",
              "  <script>\n",
              "    async function quickchart(key) {\n",
              "      const quickchartButtonEl =\n",
              "        document.querySelector('#' + key + ' button');\n",
              "      quickchartButtonEl.disabled = true;  // To prevent multiple clicks.\n",
              "      quickchartButtonEl.classList.add('colab-df-spinner');\n",
              "      try {\n",
              "        const charts = await google.colab.kernel.invokeFunction(\n",
              "            'suggestCharts', [key], {});\n",
              "      } catch (error) {\n",
              "        console.error('Error during call to suggestCharts:', error);\n",
              "      }\n",
              "      quickchartButtonEl.classList.remove('colab-df-spinner');\n",
              "      quickchartButtonEl.classList.add('colab-df-quickchart-complete');\n",
              "    }\n",
              "    (() => {\n",
              "      let quickchartButtonEl =\n",
              "        document.querySelector('#df-68e671e1-b2c8-4a50-9991-84d27e77df98 button');\n",
              "      quickchartButtonEl.style.display =\n",
              "        google.colab.kernel.accessAllowed ? 'block' : 'none';\n",
              "    })();\n",
              "  </script>\n",
              "</div>\n",
              "\n",
              "    </div>\n",
              "  </div>\n"
            ],
            "text/plain": [
              "   average_play  song_frequency\n",
              "0     18.158228             158\n",
              "1     16.891892             148\n",
              "2     16.037500              80\n",
              "3     15.976000             125\n",
              "4     15.171756             262"
            ]
          },
          "execution_count": 22,
          "metadata": {},
          "output_type": "execute_result"
        }
      ],
      "source": [
        "# Making a dataframe with the average_count and play_freq\n",
        "combine_df = pd.DataFrame({\n",
        "    'average_play': play_count,\n",
        "    'song_frequency': play_freq,\n",
        "}).sort_values(by='average_play', ascending=False).reset_index(drop=True)\n",
        "\n",
        "combine_df.head()"
      ]
    },
    {
      "cell_type": "markdown",
      "metadata": {
        "id": "WnCT-A7RK_5g"
      },
      "source": [
        "Now, let's create a function to find the top n songs for a recommendation based on the average play count of song. We can also add a threshold for a minimum number of playcounts for a song to be considered for recommendation."
      ]
    },
    {
      "cell_type": "code",
      "execution_count": null,
      "metadata": {
        "id": "QiT9FV3GNCrb"
      },
      "outputs": [],
      "source": [
        "# Build the function to find top n songs\n",
        "# Filter out songs with play counts no less than the 15 (threshold = 15)\n",
        "def recomendation(df,n,threshold=15):\n",
        "  recom_songs = play_count[play_count>=threshold]\n",
        "  top_songs=recom_songs.sort_values(ascending=False).head(n)\n",
        "\n",
        "  return top_songs"
      ]
    },
    {
      "cell_type": "code",
      "execution_count": null,
      "metadata": {
        "colab": {
          "base_uri": "https://localhost:8080/"
        },
        "id": "GpZt_BeXgz4F",
        "outputId": "022c0521-cbdf-4469-d1c4-131e0ef6da00"
      },
      "outputs": [
        {
          "name": "stdout",
          "output_type": "stream",
          "text": [
            "song_id\n",
            "32      18.158228\n",
            "1990    16.891892\n",
            "7839    16.037500\n",
            "9859    15.976000\n",
            "3859    15.171756\n",
            "Name: play_count, dtype: float64\n"
          ]
        }
      ],
      "source": [
        "# Recommend top 10 songs using the function defined above\n",
        "top_10 = recomendation(df, 10)\n",
        "print(top_10)"
      ]
    },
    {
      "cell_type": "markdown",
      "metadata": {
        "id": "gf13HrPPJeWT"
      },
      "source": [
        "### User Similarity-Based Collaborative Filtering"
      ]
    },
    {
      "cell_type": "markdown",
      "metadata": {
        "id": "ZhFa_4aHHchr"
      },
      "source": [
        "Below is the function to calculate precision@k and recall@k, RMSE, and F1_Score@k to evaluate the model performance."
      ]
    },
    {
      "cell_type": "code",
      "execution_count": null,
      "metadata": {
        "id": "Rxn-GahOTsnm"
      },
      "outputs": [],
      "source": [
        "# The function to calulate the RMSE, precision@k, recall@k, and F_1 score\n",
        "def precision_recall_at_k(model, k = 30, threshold = 1.5):\n",
        "    \"\"\"Return precision and recall at k metrics for each user\"\"\"\n",
        "\n",
        "    # First map the predictions to each user.\n",
        "    user_est_true = defaultdict(list)\n",
        "\n",
        "    # Making predictions on the test data\n",
        "    predictions=model.test(testset)\n",
        "\n",
        "    for uid, _, true_r, est, _ in predictions:\n",
        "        user_est_true[uid].append((est, true_r))\n",
        "\n",
        "    precisions = dict()\n",
        "    recalls = dict()\n",
        "    for uid, user_ratings in user_est_true.items():\n",
        "\n",
        "        # Sort user ratings by estimated value\n",
        "        user_ratings.sort(key = lambda x : x[0], reverse = True)\n",
        "\n",
        "        # Number of relevant items\n",
        "        n_rel = sum((true_r >= threshold) for (_, true_r) in user_ratings)\n",
        "\n",
        "        # Number of recommended items in top k\n",
        "        n_rec_k = sum((est >= threshold) for (est, _) in user_ratings[ : k])\n",
        "\n",
        "        # Number of relevant and recommended items in top k\n",
        "        n_rel_and_rec_k = sum(((true_r >= threshold) and (est >= threshold))\n",
        "                              for (est, true_r) in user_ratings[ : k])\n",
        "\n",
        "        # Precision@K: Proportion of recommended items that are relevant\n",
        "        # When n_rec_k is 0, Precision is undefined. We here set Precision to 0 when n_rec_k is 0\n",
        "\n",
        "        precisions[uid] = n_rel_and_rec_k / n_rec_k if n_rec_k != 0 else 0\n",
        "\n",
        "        # Recall@K: Proportion of relevant items that are recommended\n",
        "        # When n_rel is 0, Recall is undefined. We here set Recall to 0 when n_rel is 0\n",
        "\n",
        "        recalls[uid] = n_rel_and_rec_k / n_rel if n_rel != 0 else 0\n",
        "\n",
        "    # Mean of all the predicted precisions are calculated\n",
        "    precision = round((sum(prec for prec in precisions.values()) / len(precisions)), 3)\n",
        "\n",
        "    # Mean of all the predicted recalls are calculated\n",
        "    recall = round((sum(rec for rec in recalls.values()) / len(recalls)), 3)\n",
        "\n",
        "    accuracy.rmse(predictions)\n",
        "\n",
        "    # Command to print the overall precision\n",
        "    print('Precision: ', precision)\n",
        "\n",
        "    # Command to print the overall recall\n",
        "    print('Recall: ', recall)\n",
        "\n",
        "    # Formula to compute the F-1 score\n",
        "    print('F_1 score: ', round((2 * precision * recall) / (precision + recall), 3))"
      ]
    },
    {
      "cell_type": "code",
      "execution_count": null,
      "metadata": {
        "id": "rGfYDiOCpe4X"
      },
      "outputs": [],
      "source": [
        "\n",
        "# Instantiating Reader scale with rating scale (0, 5)\n",
        "reader = Reader(rating_scale=(0,5))\n",
        "\n",
        "# Loading the dataset\n",
        "data = Dataset.load_from_df(df[[\"user_id\",\"song_id\",\"play_count\"]], reader)\n",
        "\n",
        "# Splitting the data into train and test dataset\n",
        "trainset, testset = train_test_split(data, test_size=0.4, random_state=42)"
      ]
    },
    {
      "cell_type": "code",
      "execution_count": null,
      "metadata": {
        "colab": {
          "base_uri": "https://localhost:8080/"
        },
        "id": "vO3FL7iape8A",
        "outputId": "08987b7b-c4b1-405a-bd96-73a898f2f409",
        "scrolled": false
      },
      "outputs": [
        {
          "name": "stdout",
          "output_type": "stream",
          "text": [
            "Computing the cosine similarity matrix...\n",
            "Done computing similarity matrix.\n",
            "RMSE: 6.7604\n",
            "Precision:  0.44\n",
            "Recall:  0.643\n",
            "F_1 score:  0.522\n"
          ]
        }
      ],
      "source": [
        "# Build the default user-user-similarity model\n",
        "sim_options = {\n",
        "    'name': 'cosine',\n",
        "    'user_based': True  # Compute similarities between users\n",
        "}\n",
        "\n",
        "# KNN algorithm is used to find desired similar items\n",
        "sim_user_user = KNNBasic(sim_options=sim_options)\n",
        "\n",
        "# Train the algorithm on the trainset, and predict play_count for the testset\n",
        "sim_user_user.fit(trainset)\n",
        "predictions = sim_user_user.test(testset)\n",
        "\n",
        "# Let us compute precision@k, recall@k, and f_1 score with k = 30\n",
        "precision_recall_at_k(sim_user_user, k=30)"
      ]
    },
    {
      "cell_type": "code",
      "execution_count": null,
      "metadata": {
        "colab": {
          "base_uri": "https://localhost:8080/"
        },
        "id": "Sxd23bZ9pe_x",
        "outputId": "e3b484c7-3907-471e-d2c9-cf06d41cfd66"
      },
      "outputs": [
        {
          "name": "stdout",
          "output_type": "stream",
          "text": [
            "Predicted play_count for user 27018 with listened song 198: 2.32530514540775\n"
          ]
        }
      ],
      "source": [
        "# Predicting play_count for a sample user with a listened song\n",
        "\n",
        "sample_user = df['user_id'].iloc[0]\n",
        "sample_song_id_listened = df[df['user_id'] == sample_user]['song_id'].iloc[0]\n",
        "\n",
        "predicted_play_counts_listened = sim_user_user.predict(sample_user, sample_song_id_listened)\n",
        "print(f\"Predicted play_count for user {sample_user} with listened song {sample_song_id_listened}: {predicted_play_counts_listened.est}\")"
      ]
    },
    {
      "cell_type": "code",
      "execution_count": null,
      "metadata": {
        "colab": {
          "base_uri": "https://localhost:8080/"
        },
        "id": "PbFcBj1PpfEV",
        "outputId": "7a9e2029-f6d5-4759-93c4-cecf399e9f48"
      },
      "outputs": [
        {
          "name": "stdout",
          "output_type": "stream",
          "text": [
            "Predicted play_count for user 27018 with not-listened song 352: 4.75\n"
          ]
        }
      ],
      "source": [
        "# Predicting play_count for a sample user with a song not-listened by the user\n",
        "sample_song_id_not_listened = df[df['user_id'] != sample_user]['song_id'].iloc[0]\n",
        "prediction = sim_user_user.predict(sample_user, sample_song_id_not_listened)\n",
        "print(f\"Predicted play_count for user {sample_user} with not-listened song {sample_song_id_not_listened}: {prediction.est}\")"
      ]
    },
    {
      "cell_type": "markdown",
      "metadata": {
        "id": "Lt1QBiylsIOm"
      },
      "source": [
        "Now, I try to tune the model and see if we can improve the model performance."
      ]
    },
    {
      "cell_type": "code",
      "execution_count": null,
      "metadata": {
        "colab": {
          "base_uri": "https://localhost:8080/"
        },
        "id": "T3diJPL7-tVw",
        "outputId": "d1c3661c-2703-413f-e060-69a705238d35"
      },
      "outputs": [
        {
          "name": "stdout",
          "output_type": "stream",
          "text": [
            "Computing the cosine similarity matrix...\n",
            "Done computing similarity matrix.\n",
            "Computing the cosine similarity matrix...\n",
            "Done computing similarity matrix.\n",
            "Computing the cosine similarity matrix...\n",
            "Done computing similarity matrix.\n",
            "Computing the cosine similarity matrix...\n",
            "Done computing similarity matrix.\n",
            "Computing the cosine similarity matrix...\n",
            "Done computing similarity matrix.\n",
            "Computing the cosine similarity matrix...\n",
            "Done computing similarity matrix.\n",
            "Computing the msd similarity matrix...\n",
            "Done computing similarity matrix.\n",
            "Computing the msd similarity matrix...\n",
            "Done computing similarity matrix.\n",
            "Computing the msd similarity matrix...\n",
            "Done computing similarity matrix.\n",
            "Computing the msd similarity matrix...\n",
            "Done computing similarity matrix.\n",
            "Computing the msd similarity matrix...\n",
            "Done computing similarity matrix.\n",
            "Computing the msd similarity matrix...\n",
            "Done computing similarity matrix.\n",
            "Computing the pearson similarity matrix...\n",
            "Done computing similarity matrix.\n",
            "Computing the pearson similarity matrix...\n",
            "Done computing similarity matrix.\n",
            "Computing the pearson similarity matrix...\n",
            "Done computing similarity matrix.\n",
            "Computing the pearson similarity matrix...\n",
            "Done computing similarity matrix.\n",
            "Computing the pearson similarity matrix...\n",
            "Done computing similarity matrix.\n",
            "Computing the pearson similarity matrix...\n",
            "Done computing similarity matrix.\n",
            "Computing the cosine similarity matrix...\n",
            "Done computing similarity matrix.\n",
            "Computing the cosine similarity matrix...\n",
            "Done computing similarity matrix.\n",
            "Computing the cosine similarity matrix...\n",
            "Done computing similarity matrix.\n",
            "Computing the cosine similarity matrix...\n",
            "Done computing similarity matrix.\n",
            "Computing the cosine similarity matrix...\n",
            "Done computing similarity matrix.\n",
            "Computing the cosine similarity matrix...\n",
            "Done computing similarity matrix.\n",
            "Computing the msd similarity matrix...\n",
            "Done computing similarity matrix.\n",
            "Computing the msd similarity matrix...\n",
            "Done computing similarity matrix.\n",
            "Computing the msd similarity matrix...\n",
            "Done computing similarity matrix.\n",
            "Computing the msd similarity matrix...\n",
            "Done computing similarity matrix.\n",
            "Computing the msd similarity matrix...\n",
            "Done computing similarity matrix.\n",
            "Computing the msd similarity matrix...\n",
            "Done computing similarity matrix.\n",
            "Computing the pearson similarity matrix...\n",
            "Done computing similarity matrix.\n",
            "Computing the pearson similarity matrix...\n",
            "Done computing similarity matrix.\n",
            "Computing the pearson similarity matrix...\n",
            "Done computing similarity matrix.\n",
            "Computing the pearson similarity matrix...\n",
            "Done computing similarity matrix.\n",
            "Computing the pearson similarity matrix...\n",
            "Done computing similarity matrix.\n",
            "Computing the pearson similarity matrix...\n",
            "Done computing similarity matrix.\n",
            "Computing the cosine similarity matrix...\n",
            "Done computing similarity matrix.\n",
            "Computing the cosine similarity matrix...\n",
            "Done computing similarity matrix.\n",
            "Computing the cosine similarity matrix...\n",
            "Done computing similarity matrix.\n",
            "Computing the cosine similarity matrix...\n",
            "Done computing similarity matrix.\n",
            "Computing the cosine similarity matrix...\n",
            "Done computing similarity matrix.\n",
            "Computing the cosine similarity matrix...\n",
            "Done computing similarity matrix.\n",
            "Computing the msd similarity matrix...\n",
            "Done computing similarity matrix.\n",
            "Computing the msd similarity matrix...\n",
            "Done computing similarity matrix.\n",
            "Computing the msd similarity matrix...\n",
            "Done computing similarity matrix.\n",
            "Computing the msd similarity matrix...\n",
            "Done computing similarity matrix.\n",
            "Computing the msd similarity matrix...\n",
            "Done computing similarity matrix.\n",
            "Computing the msd similarity matrix...\n",
            "Done computing similarity matrix.\n",
            "Computing the pearson similarity matrix...\n",
            "Done computing similarity matrix.\n",
            "Computing the pearson similarity matrix...\n",
            "Done computing similarity matrix.\n",
            "Computing the pearson similarity matrix...\n",
            "Done computing similarity matrix.\n",
            "Computing the pearson similarity matrix...\n",
            "Done computing similarity matrix.\n",
            "Computing the pearson similarity matrix...\n",
            "Done computing similarity matrix.\n",
            "Computing the pearson similarity matrix...\n",
            "Done computing similarity matrix.\n",
            "Best RMSE score:  5.257865307327809\n",
            "Best parameters:  {'k': 50, 'sim_options': {'name': 'cosine', 'min_support': 1, 'user_based': True}}\n"
          ]
        }
      ],
      "source": [
        "# Setting up parameter grid to tune the hyperparameters\n",
        "param_grid = {\n",
        "    'k':[10,30,50],\n",
        "    'sim_options':{\n",
        "        'name': ['cosine','msd','pearson'],\n",
        "        'min_support':[1,5],\n",
        "        'user_based':[True]\n",
        "    }\n",
        "}\n",
        "\n",
        "# Performing 3-fold cross-validation to tune the hyperparameters\n",
        "gs = GridSearchCV(KNNBasic, param_grid, measures=['rmse','mae'],cv=3)\n",
        "\n",
        "# Fitting the data\n",
        "gs.fit(data)\n",
        "\n",
        "# Extract the best RMSE score and parameters.\n",
        "print('Best RMSE score: ', gs.best_score['rmse'])\n",
        "print('Best parameters: ', gs.best_params['rmse'])"
      ]
    },
    {
      "cell_type": "code",
      "execution_count": null,
      "metadata": {
        "colab": {
          "base_uri": "https://localhost:8080/"
        },
        "id": "PujRJA8X_JEJ",
        "outputId": "70d847e9-7810-4fa6-c391-154464727741"
      },
      "outputs": [
        {
          "name": "stdout",
          "output_type": "stream",
          "text": [
            "Computing the cosine similarity matrix...\n",
            "Done computing similarity matrix.\n"
          ]
        },
        {
          "data": {
            "text/plain": [
              "<surprise.prediction_algorithms.knns.KNNBasic at 0x7f5408d07430>"
            ]
          },
          "execution_count": 138,
          "metadata": {},
          "output_type": "execute_result"
        }
      ],
      "source": [
        "from surprise import KNNBasic\n",
        "best_params = gs.best_params['rmse']\n",
        "k = best_params['k']\n",
        "sim_options = best_params['sim_options']\n",
        "\n",
        "model = KNNBasic(k=k, sim_options=sim_options)\n",
        "\n",
        "# Train the best model found in above gridsearch\n",
        "trainset = data.build_full_trainset()\n",
        "model.fit(trainset)"
      ]
    },
    {
      "cell_type": "code",
      "execution_count": null,
      "metadata": {
        "colab": {
          "base_uri": "https://localhost:8080/"
        },
        "id": "HXO2Ztjhq1bN",
        "outputId": "381879e4-1e4b-471e-8500-59d560f6a250"
      },
      "outputs": [
        {
          "name": "stdout",
          "output_type": "stream",
          "text": [
            "User 27018 would rate the 198 as : 2.51\n"
          ]
        }
      ],
      "source": [
        "# Predict the play count for a song that is not listened to by the user (with user_id 27018)\n",
        "user_id = '27018'\n",
        "\n",
        "not_listened_songs = df[(df['user_id'] != user_id)]['song_id'].unique()\n",
        "\n",
        "song_not_listened = not_listened_songs[0]\n",
        "\n",
        "prediction = model.predict(user_id, song_not_listened)\n",
        "\n",
        "print(f'User {user_id} would rate the {song_not_listened} as : {prediction.est:.2f}')"
      ]
    },
    {
      "cell_type": "markdown",
      "metadata": {
        "id": "U3ESobDynVNI"
      },
      "source": [
        "Below I implemented a function where the input parameters are:\n",
        "\n",
        "- data: A **song** dataset\n",
        "- user_id: A user-id **against which we want the recommendations**\n",
        "- top_n: The **number of songs we want to recommend**\n",
        "- algo: The algorithm we want to use **for predicting the play_count**\n",
        "- The output of the function is a **set of top_n items** recommended for the given user_id based on the given algorithm"
      ]
    },
    {
      "cell_type": "code",
      "execution_count": null,
      "metadata": {
        "id": "vW9V1Tk65HlY"
      },
      "outputs": [],
      "source": [
        "def get_recommendations(data, user_id, top_n, algo):\n",
        "\n",
        "    # Creating an empty list to store the recommended product ids\n",
        "    all_songs = data['song_id'].unique()\n",
        "\n",
        "    # Creating an user item interactions matrix\n",
        "    listened_songs = data[data['user_id']==user_id]['song_id'].unique()\n",
        "\n",
        "    # Extracting those business ids which the user_id has not visited yet\n",
        "    listened_songs = set(data[data['user_id'] == user_id]['song_id'])\n",
        "    all_songs = set(data['song_id'])\n",
        "\n",
        "    # Looping through each of the business ids which user_id has not interacted yet\n",
        "    not_listened_songs = all_songs - listened_songs\n",
        "\n",
        "    # Predicting the ratings for those non visited restaurant ids by this user\n",
        "    predictions = [algo.predict(user_id, song_id) for song_id in not_listened_songs]\n",
        "    sorted_predictions = [algo.predict(user_id, song_id) for song_id in not_listened_songs]\n",
        "    top_recommendations = [(pred.iid,pred.est) for pred in sorted_predictions[:top_n]]\n",
        "\n",
        "    return top_recommendations"
      ]
    },
    {
      "cell_type": "code",
      "execution_count": null,
      "metadata": {
        "colab": {
          "base_uri": "https://localhost:8080/"
        },
        "id": "qWbR85mI5Hrk",
        "outputId": "dfbef352-d304-4d2e-b21e-4a98fd7d0056"
      },
      "outputs": [
        {
          "name": "stdout",
          "output_type": "stream",
          "text": [
            "Recommended Songs: [(2048, 2.0), (6148, 1.517029070291005), (21, 3.08), (22, 1.560053445618945), (6175, 2.8), (8224, 1.1791884952890748), (4134, 2.6832539838589686), (2091, 2.8), (6189, 2.7), (6191, 1.729859340901254)]\n"
          ]
        }
      ],
      "source": [
        "# Make top 10 recommendations for any user_id with a similarity-based recommendation engine\n",
        "top_n = 10\n",
        "top_recommendations = get_recommendations(df, 6958, top_n, model)\n",
        "print(\"Recommended Songs:\", top_recommendations)"
      ]
    },
    {
      "cell_type": "markdown",
      "metadata": {
        "id": "QgbzJKk7Tsnr"
      },
      "source": [
        "### Item Item Similarity-based collaborative filtering recommendation systems"
      ]
    },
    {
      "cell_type": "code",
      "execution_count": null,
      "metadata": {
        "colab": {
          "base_uri": "https://localhost:8080/"
        },
        "id": "W5RMcdzjTsns",
        "outputId": "625a441b-5369-4bb3-f60d-7944676a3bc1",
        "scrolled": false
      },
      "outputs": [
        {
          "name": "stdout",
          "output_type": "stream",
          "text": [
            "Computing the msd similarity matrix...\n",
            "Done computing similarity matrix.\n",
            "RMSE: 12.4757\n",
            "Item-item collaborative filtering model rmse:12.475676611567863\n"
          ]
        }
      ],
      "source": [
        "# Apply the item-item similarity collaborative filtering model with random_state = 1 and evaluate the model performance\n",
        "reader = Reader(rating_scale=(df['play_count'].min(),df['play_count'].max()))\n",
        "data = Dataset.load_from_df(df[['user_id', 'song_id', 'play_count']], reader)\n",
        "\n",
        "trainset, testset = train_test_split(data, test_size=0.25, random_state=1)\n",
        "\n",
        "sim_options = {\n",
        "    \"name\":\"cosine\",\n",
        "    \"user_base\": False,\n",
        "}\n",
        "algo = KNNWithMeans (sim_option=sim_options)\n",
        "algo.fit(trainset)\n",
        "\n",
        "test_pred = algo.test(testset)\n",
        "rmse = accuracy.rmse(test_pred)\n",
        "\n",
        "print(f\"Item-item collaborative filtering model rmse:{rmse}\")"
      ]
    },
    {
      "cell_type": "code",
      "execution_count": null,
      "metadata": {
        "colab": {
          "base_uri": "https://localhost:8080/"
        },
        "id": "5yILOxXRTsns",
        "outputId": "cea1677b-3c88-4a34-8440-34b876337917"
      },
      "outputs": [
        {
          "name": "stdout",
          "output_type": "stream",
          "text": [
            "Predicted play count for user 6958 and song 1671: 12.052177616867214\n"
          ]
        }
      ],
      "source": [
        "# Predicting play count for a sample user_id 6958 and song (with song_id 1671) heard by the user\n",
        "user_id = 6958\n",
        "song_id = 1671\n",
        "prediction = algo.predict(user_id, song_id)\n",
        "print(f\"Predicted play count for user {user_id} and song {song_id}: {prediction.est}\")"
      ]
    },
    {
      "cell_type": "code",
      "execution_count": null,
      "metadata": {
        "colab": {
          "base_uri": "https://localhost:8080/"
        },
        "id": "f5bcZ3HgTsnt",
        "outputId": "0eaefb85-891e-45f1-8d95-44901579d911"
      },
      "outputs": [
        {
          "name": "stdout",
          "output_type": "stream",
          "text": [
            "Computing the msd similarity matrix...\n",
            "Done computing similarity matrix.\n",
            "Computing the msd similarity matrix...\n",
            "Done computing similarity matrix.\n",
            "Computing the msd similarity matrix...\n",
            "Done computing similarity matrix.\n",
            "Computing the cosine similarity matrix...\n",
            "Done computing similarity matrix.\n",
            "Computing the cosine similarity matrix...\n",
            "Done computing similarity matrix.\n",
            "Computing the cosine similarity matrix...\n",
            "Done computing similarity matrix.\n",
            "Computing the pearson similarity matrix...\n",
            "Done computing similarity matrix.\n",
            "Computing the pearson similarity matrix...\n",
            "Done computing similarity matrix.\n",
            "Computing the pearson similarity matrix...\n",
            "Done computing similarity matrix.\n",
            "Computing the msd similarity matrix...\n",
            "Done computing similarity matrix.\n",
            "Computing the msd similarity matrix...\n",
            "Done computing similarity matrix.\n",
            "Computing the msd similarity matrix...\n",
            "Done computing similarity matrix.\n",
            "Computing the cosine similarity matrix...\n",
            "Done computing similarity matrix.\n",
            "Computing the cosine similarity matrix...\n",
            "Done computing similarity matrix.\n",
            "Computing the cosine similarity matrix...\n",
            "Done computing similarity matrix.\n",
            "Computing the pearson similarity matrix...\n",
            "Done computing similarity matrix.\n",
            "Computing the pearson similarity matrix...\n",
            "Done computing similarity matrix.\n",
            "Computing the pearson similarity matrix...\n",
            "Done computing similarity matrix.\n",
            "Computing the msd similarity matrix...\n",
            "Done computing similarity matrix.\n",
            "Computing the msd similarity matrix...\n",
            "Done computing similarity matrix.\n",
            "Computing the msd similarity matrix...\n",
            "Done computing similarity matrix.\n",
            "Computing the cosine similarity matrix...\n",
            "Done computing similarity matrix.\n",
            "Computing the cosine similarity matrix...\n",
            "Done computing similarity matrix.\n",
            "Computing the cosine similarity matrix...\n",
            "Done computing similarity matrix.\n",
            "Computing the pearson similarity matrix...\n",
            "Done computing similarity matrix.\n",
            "Computing the pearson similarity matrix...\n",
            "Done computing similarity matrix.\n",
            "Computing the pearson similarity matrix...\n",
            "Done computing similarity matrix.\n",
            "Computing the msd similarity matrix...\n",
            "Done computing similarity matrix.\n",
            "Computing the msd similarity matrix...\n",
            "Done computing similarity matrix.\n",
            "Computing the msd similarity matrix...\n",
            "Done computing similarity matrix.\n",
            "Computing the cosine similarity matrix...\n",
            "Done computing similarity matrix.\n",
            "Computing the cosine similarity matrix...\n",
            "Done computing similarity matrix.\n",
            "Computing the cosine similarity matrix...\n",
            "Done computing similarity matrix.\n",
            "Computing the pearson similarity matrix...\n",
            "Done computing similarity matrix.\n",
            "Computing the pearson similarity matrix...\n",
            "Done computing similarity matrix.\n",
            "Computing the pearson similarity matrix...\n",
            "Done computing similarity matrix.\n",
            "Computing the msd similarity matrix...\n",
            "Done computing similarity matrix.\n",
            "Computing the msd similarity matrix...\n",
            "Done computing similarity matrix.\n",
            "Computing the msd similarity matrix...\n",
            "Done computing similarity matrix.\n",
            "Computing the cosine similarity matrix...\n",
            "Done computing similarity matrix.\n",
            "Computing the cosine similarity matrix...\n",
            "Done computing similarity matrix.\n",
            "Computing the cosine similarity matrix...\n",
            "Done computing similarity matrix.\n",
            "Computing the pearson similarity matrix...\n",
            "Done computing similarity matrix.\n",
            "Computing the pearson similarity matrix...\n",
            "Done computing similarity matrix.\n",
            "Computing the pearson similarity matrix...\n",
            "Done computing similarity matrix.\n",
            "Computing the msd similarity matrix...\n",
            "Done computing similarity matrix.\n",
            "Computing the msd similarity matrix...\n",
            "Done computing similarity matrix.\n",
            "Computing the msd similarity matrix...\n",
            "Done computing similarity matrix.\n",
            "Computing the cosine similarity matrix...\n",
            "Done computing similarity matrix.\n",
            "Computing the cosine similarity matrix...\n",
            "Done computing similarity matrix.\n",
            "Computing the cosine similarity matrix...\n",
            "Done computing similarity matrix.\n",
            "Computing the pearson similarity matrix...\n",
            "Done computing similarity matrix.\n",
            "Computing the pearson similarity matrix...\n",
            "Done computing similarity matrix.\n",
            "Computing the pearson similarity matrix...\n",
            "Done computing similarity matrix.\n",
            "Computing the msd similarity matrix...\n",
            "Done computing similarity matrix.\n",
            "Computing the msd similarity matrix...\n",
            "Done computing similarity matrix.\n",
            "Computing the msd similarity matrix...\n",
            "Done computing similarity matrix.\n",
            "Computing the cosine similarity matrix...\n",
            "Done computing similarity matrix.\n",
            "Computing the cosine similarity matrix...\n",
            "Done computing similarity matrix.\n",
            "Computing the cosine similarity matrix...\n",
            "Done computing similarity matrix.\n",
            "Computing the pearson similarity matrix...\n",
            "Done computing similarity matrix.\n",
            "Computing the pearson similarity matrix...\n",
            "Done computing similarity matrix.\n",
            "Computing the pearson similarity matrix...\n",
            "Done computing similarity matrix.\n",
            "Computing the msd similarity matrix...\n",
            "Done computing similarity matrix.\n",
            "Computing the msd similarity matrix...\n",
            "Done computing similarity matrix.\n",
            "Computing the msd similarity matrix...\n",
            "Done computing similarity matrix.\n",
            "Computing the cosine similarity matrix...\n",
            "Done computing similarity matrix.\n",
            "Computing the cosine similarity matrix...\n",
            "Done computing similarity matrix.\n",
            "Computing the cosine similarity matrix...\n",
            "Done computing similarity matrix.\n",
            "Computing the pearson similarity matrix...\n",
            "Done computing similarity matrix.\n",
            "Computing the pearson similarity matrix...\n",
            "Done computing similarity matrix.\n",
            "Computing the pearson similarity matrix...\n",
            "Done computing similarity matrix.\n",
            "Computing the msd similarity matrix...\n",
            "Done computing similarity matrix.\n",
            "Computing the msd similarity matrix...\n",
            "Done computing similarity matrix.\n",
            "Computing the msd similarity matrix...\n",
            "Done computing similarity matrix.\n",
            "Computing the cosine similarity matrix...\n",
            "Done computing similarity matrix.\n",
            "Computing the cosine similarity matrix...\n",
            "Done computing similarity matrix.\n",
            "Computing the cosine similarity matrix...\n",
            "Done computing similarity matrix.\n",
            "Computing the pearson similarity matrix...\n",
            "Done computing similarity matrix.\n",
            "Computing the pearson similarity matrix...\n",
            "Done computing similarity matrix.\n",
            "Computing the pearson similarity matrix...\n",
            "Done computing similarity matrix.\n",
            "Best RMSE score:  11.862561113768047\n",
            "Best parameters:  {'k': 50, 'min_k': 10, 'sim_options': {'name': 'cosine', 'user_based': False}}\n"
          ]
        }
      ],
      "source": [
        "# Apply grid search for enhancing model performance\n",
        "param_grid = {\n",
        "    'k': [10,30,50],\n",
        "    'min_k': [1, 5, 10],\n",
        "    'sim_options': {\n",
        "        'name': ['msd', 'cosine', 'pearson'],\n",
        "        'user_based': [False]\n",
        "    }\n",
        "}\n",
        "\n",
        "# Performing 3-fold cross-validation to tune the hyperparameters\n",
        "gs = GridSearchCV(KNNWithMeans, param_grid, measures=['rmse','mae'], cv=3)\n",
        "\n",
        "# Fitting the data\n",
        "gs.fit(data)\n",
        "\n",
        "# Find the best RMSE score\n",
        "print('Best RMSE score: ', gs.best_score['rmse'])\n",
        "print('Best parameters: ', gs.best_params['rmse'])\n"
      ]
    },
    {
      "cell_type": "code",
      "execution_count": null,
      "metadata": {
        "colab": {
          "base_uri": "https://localhost:8080/"
        },
        "id": "dSeiM1qeTsnt",
        "outputId": "89f16dc6-26df-4baf-9e80-150619f65afd"
      },
      "outputs": [
        {
          "name": "stdout",
          "output_type": "stream",
          "text": [
            "Computing the cosine similarity matrix...\n",
            "Done computing similarity matrix.\n"
          ]
        },
        {
          "data": {
            "text/plain": [
              "<surprise.prediction_algorithms.knns.KNNWithMeans at 0x7f5408e23970>"
            ]
          },
          "execution_count": 176,
          "metadata": {},
          "output_type": "execute_result"
        }
      ],
      "source": [
        "# Apply the best modle found in the grid search\n",
        "best_algo = KNNWithMeans(k=best_params['k'],\n",
        "                         sim_options=best_params['sim_options'])\n",
        "\n",
        "# Train the best model on the full dataset\n",
        "trainset = data.build_full_trainset()\n",
        "best_algo.fit(trainset)"
      ]
    },
    {
      "cell_type": "code",
      "execution_count": null,
      "metadata": {
        "colab": {
          "base_uri": "https://localhost:8080/"
        },
        "id": "gIBRRvdoTsnt",
        "outputId": "924aa5a8-f2d8-443f-abbc-eda614171ab7"
      },
      "outputs": [
        {
          "name": "stdout",
          "output_type": "stream",
          "text": [
            "Estimated play_count for user 6958 on song 1671: 11.927327902890912\n"
          ]
        }
      ],
      "source": [
        "# Predict the play_count by a user(user_id 6958) for the song (song_id 1671)\n",
        "# Assuming user_id is '6958' and song_id is '1671'\n",
        "user_id = '6958'\n",
        "song_id = '1671'\n",
        "\n",
        "# Make a prediction\n",
        "prediction = best_algo.predict(user_id, song_id)\n",
        "\n",
        "# The estimated play_count\n",
        "print(\"Estimated play_count for user {} on song {}: {}\".format(user_id, song_id, prediction.est))\n"
      ]
    },
    {
      "cell_type": "code",
      "execution_count": null,
      "metadata": {
        "colab": {
          "base_uri": "https://localhost:8080/"
        },
        "id": "7gewfmTATsnv",
        "outputId": "b95691c4-fc6f-4a00-be1d-245448e65275"
      },
      "outputs": [
        {
          "name": "stdout",
          "output_type": "stream",
          "text": [
            "['Rorol', 'Auto-Dub', 'Hilarious Movie Of The 90s', 'One Minute To Midnight', 'Lights & Music', 'Neon Knights', 'Hold The Ladder', \"Ghosts 'n' Stuff (Original Instrumental Mix)\", 'Feel The Love', \"She's Good For Business\"]\n"
          ]
        }
      ],
      "source": [
        "def ranking_songs(user_id, all_songs, best_algo, top_n=10):\n",
        "    # List to store predictions\n",
        "    predictions = []\n",
        "\n",
        "    # Generate predictions for each song\n",
        "    for song_id in all_songs:\n",
        "        prediction = best_algo.predict(user_id, song_id)\n",
        "        predictions.append((song_id, prediction.est))\n",
        "\n",
        "    # Sort the predictions in descending order of estimated play counts\n",
        "    predictions.sort(key=lambda x: x[1], reverse=True)\n",
        "\n",
        "    # Return the top N song IDs\n",
        "    return [song_id for song_id, _ in predictions[:top_n]]\n",
        "\n",
        "all_songs = df['title'].unique()\n",
        "top_songs = ranking_songs(user_id, all_songs, best_algo, top_n=10)\n",
        "\n",
        "print(top_songs)"
      ]
    },
    {
      "cell_type": "markdown",
      "metadata": {
        "id": "rKgJpSA9vOOL"
      },
      "source": [
        "### Model Based Collaborative Filtering - Matrix Factorization"
      ]
    },
    {
      "cell_type": "markdown",
      "metadata": {
        "id": "hJynidJCw-ti"
      },
      "source": [
        "Model-based Collaborative Filtering is a **personalized recommendation system**, the recommendations are based on the past behavior of the user and it is not dependent on any additional information. We use **latent features** to find recommendations for each user."
      ]
    },
    {
      "cell_type": "code",
      "execution_count": null,
      "metadata": {
        "colab": {
          "base_uri": "https://localhost:8080/"
        },
        "id": "07-2PT5Ssjqm",
        "outputId": "d76b9d6f-8f01-44b2-c51e-5f4f5faaa690"
      },
      "outputs": [
        {
          "name": "stdout",
          "output_type": "stream",
          "text": [
            "Shape of latent matrix: (76353, 20)\n"
          ]
        }
      ],
      "source": [
        "n_latent_features = 20\n",
        "svd = TruncatedSVD(n_components=n_latent_features)\n",
        "user_song_interactions = df_counts.pivot(index='user_id', columns='song_id', values='play_count').fillna(0)\n",
        "user_song_interactions_matrix = csr_matrix(user_song_interactions.values)\n",
        "\n",
        "\n",
        "latent_matrix = svd.fit_transform(user_song_interactions_matrix)\n",
        "\n",
        "print(f\"Shape of latent matrix: {latent_matrix.shape}\")\n",
        "\n",
        "# Build baseline model using svd\n",
        "\n",
        "user_song_interactions_matrix = csr_matrix(user_song_interactions.values)"
      ]
    },
    {
      "cell_type": "code",
      "execution_count": null,
      "metadata": {
        "colab": {
          "base_uri": "https://localhost:8080/"
        },
        "id": "yWIhfdxXsjqm",
        "outputId": "a3eb8322-7828-4f9e-a0b1-33d929ef3947"
      },
      "outputs": [
        {
          "data": {
            "text/plain": [
              "<surprise.prediction_algorithms.matrix_factorization.SVD at 0x7c594b027b80>"
            ]
          },
          "execution_count": 24,
          "metadata": {},
          "output_type": "execute_result"
        }
      ],
      "source": [
        "# Making prediction for user (with user_id 6958) to song (with song_id 1671), take r_ui = 2\n",
        "reader = Reader(rating_scale=(0,5))\n",
        "data = Dataset.load_from_df(df_counts[['user_id', 'song_id', 'play_count']], reader)\n",
        "\n",
        "# Split the data into training and testing sets\n",
        "trainset = data.build_full_trainset()\n",
        "\n",
        "trainset = data.build_full_trainset()\n",
        "svd = SVD()\n",
        "svd.fit(trainset)"
      ]
    },
    {
      "cell_type": "code",
      "execution_count": null,
      "metadata": {
        "colab": {
          "base_uri": "https://localhost:8080/"
        },
        "id": "APm-uMSvcAMf",
        "outputId": "9550acf4-67e2-4495-9683-370db03ccbbd"
      },
      "outputs": [
        {
          "name": "stdout",
          "output_type": "stream",
          "text": [
            "Predicted rating: 3.0454845\n"
          ]
        }
      ],
      "source": [
        "user_id = 6958\n",
        "song_id = 1671\n",
        "r_ui = 2  # This is the true rating\n",
        "\n",
        "# Making prediction\n",
        "prediction = svd.predict(user_id, song_id, r_ui=r_ui)\n",
        "predicted_rating = prediction.est\n",
        "print(f'Predicted rating: {predicted_rating}')"
      ]
    },
    {
      "cell_type": "markdown",
      "metadata": {
        "id": "23tnRUJJxWTR"
      },
      "source": [
        "#### Improving matrix factorization based recommendation system by tuning its hyperparameters"
      ]
    },
    {
      "cell_type": "code",
      "execution_count": null,
      "metadata": {
        "colab": {
          "base_uri": "https://localhost:8080/"
        },
        "id": "4bM81V_hvtwv",
        "outputId": "67eacbbc-4ff9-4e70-bd00-29beb3c9e49e"
      },
      "outputs": [
        {
          "name": "stdout",
          "output_type": "stream",
          "text": [
            "6.860128766339876\n",
            "{'n_epochs': 5, 'lr_all': 0.005, 'reg_all': 0.4}\n"
          ]
        }
      ],
      "source": [
        "# Set the parameter space to tune\n",
        "param_grid = {\n",
        "    'n_epochs': [5, 10],\n",
        "    'lr_all': [0.005, 0.01],\n",
        "    'reg_all': [0.4]\n",
        "}\n",
        "\n",
        "gs = GridSearchCV(SVD, param_grid, measures=['rmse', 'mae'], cv=3)\n",
        "gs.fit(data)\n",
        "\n",
        "# Best RMSE score\n",
        "print(gs.best_score['rmse'])\n",
        "\n",
        "# Combination of parameters that gave the best RMSE score\n",
        "print(gs.best_params['rmse'])\n",
        "\n"
      ]
    },
    {
      "cell_type": "code",
      "execution_count": null,
      "metadata": {
        "id": "TA_7xe-nnhuu"
      },
      "outputs": [],
      "source": [
        "# Building the optimized SVD model using optimal hyperparameters\n",
        "optimal_params = gs.best_params['rmse']\n",
        "optimized_svd = SVD(n_epochs=optimal_params['n_epochs'],\n",
        "                    lr_all=optimal_params['lr_all'],\n",
        "                    reg_all=optimal_params['reg_all'])\n",
        "optimized_svd.fit(trainset)\n",
        "trainset = data.build_full_trainset()"
      ]
    },
    {
      "cell_type": "code",
      "execution_count": null,
      "metadata": {
        "id": "1LGeE2EB_n90"
      },
      "outputs": [],
      "source": [
        "# Making prediction\n",
        "all_items = df['song_id'].unique().tolist()\n",
        "predictions = [optimized_svd.predict(user_id, iid) for iid in all_items]\n",
        "\n",
        "# Getting top 10 recommendations for random user_id using \"svd_optimized\" algorithm\n",
        "def get_top_n(predictions, n=10, user_id=6958):\n",
        "    top_n = {}\n",
        "    for prediction in predictions:\n",
        "        uid, iid, est = prediction.uid, prediction.iid, prediction.est\n",
        "        if uid == user_id:\n",
        "            top_n.setdefault(uid, []).append((iid, est))\n",
        "\n",
        "    for uid, user_ratings in top_n.items():\n",
        "        user_ratings.sort(key=lambda x: x[1], reverse=True)\n",
        "        top_n[uid] = user_ratings[:n]\n",
        "\n",
        "    return top_n\n",
        "\n",
        "top_n_recommendations = get_top_n(predictions, n=10, user_id=6958)"
      ]
    },
    {
      "cell_type": "code",
      "execution_count": null,
      "metadata": {
        "colab": {
          "base_uri": "https://localhost:8080/"
        },
        "id": "6ngiGSJU818M",
        "outputId": "03d57719-8e00-4af4-e054-e2b3276ce39b"
      },
      "outputs": [
        {
          "name": "stdout",
          "output_type": "stream",
          "text": [
            "Top 10 song recommendations for user 6958, ranked by predicted rating:\n",
            "Rank 1: Song ID 198, Predicted Rating: 3.05\n",
            "Rank 2: Song ID 248, Predicted Rating: 3.05\n",
            "Rank 3: Song ID 318, Predicted Rating: 3.05\n",
            "Rank 4: Song ID 926, Predicted Rating: 3.05\n",
            "Rank 5: Song ID 1262, Predicted Rating: 3.05\n",
            "Rank 6: Song ID 1472, Predicted Rating: 3.05\n",
            "Rank 7: Song ID 1571, Predicted Rating: 3.05\n",
            "Rank 8: Song ID 1811, Predicted Rating: 3.05\n",
            "Rank 9: Song ID 1936, Predicted Rating: 3.05\n",
            "Rank 10: Song ID 2615, Predicted Rating: 3.05\n"
          ]
        }
      ],
      "source": [
        "# Ranking songs based on above recommendations\n",
        "print(f\"Top 10 song recommendations for user {user_id}, ranked by predicted rating:\")\n",
        "for rank, (song_id, predicted_rating) in enumerate(top_n_recommendations.get(user_id, []), start=1):\n",
        "    print(f'Rank {rank}: Song ID {song_id}, Predicted Rating: {predicted_rating:.2f}')\n"
      ]
    },
    {
      "cell_type": "markdown",
      "metadata": {
        "id": "57b31de5"
      },
      "source": [
        "### Cluster Based Recommendation System"
      ]
    },
    {
      "cell_type": "markdown",
      "metadata": {
        "id": "9Xv2AZCszCdN"
      },
      "source": [
        "In **clustering-based recommendation systems**, we explore the **similarities and differences** in people's tastes in songs based on how they rate different songs. We cluster similar users together and recommend songs to a user based on play_counts from other users in the same cluster."
      ]
    },
    {
      "cell_type": "code",
      "execution_count": null,
      "metadata": {
        "colab": {
          "base_uri": "https://localhost:8080/"
        },
        "id": "0c4b20e4",
        "outputId": "73daf989-7cc3-4caf-f966-ffafdd13d558"
      },
      "outputs": [
        {
          "name": "stderr",
          "output_type": "stream",
          "text": [
            "/usr/local/lib/python3.10/dist-packages/sklearn/cluster/_kmeans.py:870: FutureWarning: The default value of `n_init` will change from 10 to 'auto' in 1.4. Set the value of `n_init` explicitly to suppress the warning\n",
            "  warnings.warn(\n"
          ]
        },
        {
          "name": "stdout",
          "output_type": "stream",
          "text": [
            "Empty DataFrame\n",
            "Columns: [user_id, song_id, play_count, title, release, artist_name, year]\n",
            "Index: []\n"
          ]
        }
      ],
      "source": [
        "# Make baseline clustering model\n",
        "from sklearn.preprocessing import StandardScaler\n",
        "from sklearn.cluster import KMeans\n",
        "\n",
        "user_item_matrix = df.pivot(index='user_id', columns='song_id', values='play_count').fillna(0)\n",
        "scaler = StandardScaler()\n",
        "user_item_matrix_scaled = scaler.fit_transform(user_item_matrix)\n",
        "k = 5\n",
        "kmeans = KMeans(n_clusters=k, random_state=42)\n",
        "\n",
        "# Fit the model\n",
        "user_clusters = kmeans.fit_predict(user_item_matrix_scaled)\n",
        "\n",
        "# Add cluster labels to the user_item_matrix\n",
        "user_item_matrix['cluster'] = user_clusters\n",
        "\n"
      ]
    },
    {
      "cell_type": "code",
      "execution_count": null,
      "metadata": {
        "id": "dab1aaed"
      },
      "outputs": [],
      "source": [
        "def recommend_songs(user_id, user_item_matrix, top_n=10):\n",
        "    # Find the user's cluster\n",
        "    user_cluster = user_item_matrix.loc[user_id, 'cluster']\n",
        "\n",
        "    # Filter the matrix to include only users from the same cluster\n",
        "    cluster_data = user_item_matrix[user_item_matrix['cluster'] == user_cluster]\n",
        "\n",
        "    # Calculate the mean play_count for each song in the cluster\n",
        "    song_recommendations = cluster_data.drop('cluster', axis=1).mean().sort_values(ascending=False)\n",
        "\n",
        "    # Get the top N song recommendations\n",
        "    return song_recommendations.head(top_n).index.tolist()"
      ]
    },
    {
      "cell_type": "code",
      "execution_count": null,
      "metadata": {
        "colab": {
          "base_uri": "https://localhost:8080/"
        },
        "id": "6uiG7e30X2UF",
        "outputId": "2b58da98-70fd-4dbd-fbff-f463fea7f406"
      },
      "outputs": [
        {
          "name": "stdout",
          "output_type": "stream",
          "text": [
            "Recommended Songs for User 19161: [317, 614, 7416, 6246, 352, 1664, 2220, 5531, 7913, 5645]\n"
          ]
        }
      ],
      "source": [
        "user_id = df['user_id'].sample(n=1).iloc[0]\n",
        "recommended_songs = recommend_songs(user_id, user_item_matrix, top_n=10)\n",
        "print(f\"Recommended Songs for User {user_id}: {recommended_songs}\")"
      ]
    },
    {
      "cell_type": "markdown",
      "metadata": {
        "id": "c2fd66f5"
      },
      "source": [
        "#### Improving clustering-based recommendation system by tuning its hyper-parameters"
      ]
    },
    {
      "cell_type": "code",
      "execution_count": null,
      "metadata": {
        "colab": {
          "base_uri": "https://localhost:8080/"
        },
        "id": "efe7d8e6",
        "outputId": "6d7f3ccb-dce6-47d9-b09e-37e9c2666cdc"
      },
      "outputs": [
        {
          "name": "stdout",
          "output_type": "stream",
          "text": [
            "Best parameters: {'n_clusters': 3, 'init': 'k-means++', 'n_init': 10}\n",
            "Best silhouette score: 0.7560382053573051\n"
          ]
        }
      ],
      "source": [
        "from sklearn.cluster import KMeans\n",
        "from sklearn.metrics import silhouette_score\n",
        "from sklearn.model_selection import KFold\n",
        "\n",
        "# Set the parameter space to tune\n",
        "param_grid = {\n",
        "    'n_clusters': [3, 5, 7, 10],\n",
        "    'init': ['k-means++', 'random'],\n",
        "    'n_init': [10, 15, 20]\n",
        "}\n",
        "\n",
        "# Iterate over parameter combinations\n",
        "for n_clusters in param_grid['n_clusters']:\n",
        "    for init in param_grid['init']:\n",
        "        for n_init in param_grid['n_init']:\n",
        "            # Configure KMeans with the current set of parameters\n",
        "            kmeans = KMeans(n_clusters=n_clusters, init=init, n_init=n_init, random_state=42)\n",
        "\n",
        "            # Fit the model\n",
        "            user_clusters = kmeans.fit_predict(user_item_matrix_scaled)\n",
        "\n",
        "            # Evaluate the model using silhouette score\n",
        "            silhouette_avg = silhouette_score(user_item_matrix_scaled, user_clusters)\n",
        "\n",
        "            # Update best parameters and score if current score is better\n",
        "            if silhouette_avg > best_score:\n",
        "                best_score = silhouette_avg\n",
        "                best_params = {'n_clusters': n_clusters, 'init': init, 'n_init': n_init}\n",
        "\n",
        "print(f'Best parameters: {best_params}')\n",
        "print(f'Best silhouette score: {best_score}')"
      ]
    },
    {
      "cell_type": "code",
      "execution_count": null,
      "metadata": {
        "colab": {
          "base_uri": "https://localhost:8080/"
        },
        "id": "5a7a8a30",
        "outputId": "993786e4-8c20-497c-8b98-77ae6d290990"
      },
      "outputs": [
        {
          "data": {
            "text/plain": [
              "<surprise.prediction_algorithms.co_clustering.CoClustering at 0x7f85de0af1c0>"
            ]
          },
          "execution_count": 71,
          "metadata": {},
          "output_type": "execute_result"
        }
      ],
      "source": [
        "from surprise import CoClustering, Dataset, Reader\n",
        "from surprise.model_selection import cross_validate\n",
        "\n",
        "# Train the tuned Coclustering algorithm\n",
        "coclustering = CoClustering(n_cltr_u=3, n_cltr_i=3, n_epochs=20)\n",
        "reader = Reader(rating_scale=(0, 5))\n",
        "data = Dataset.load_from_df(df[['user_id', 'song_id', 'play_count']], reader)\n",
        "trainset, testset = train_test_split(data, test_size=0.25, random_state=42)\n",
        "coclustering.fit(trainset)"
      ]
    },
    {
      "cell_type": "code",
      "execution_count": null,
      "metadata": {
        "colab": {
          "base_uri": "https://localhost:8080/"
        },
        "id": "6ba5b26b",
        "outputId": "479e8628-a86c-429d-b248-360620260bb5"
      },
      "outputs": [
        {
          "name": "stdout",
          "output_type": "stream",
          "text": [
            "Predicted rating for user 11799 and item 8094: 4.33994942815162\n"
          ]
        }
      ],
      "source": [
        "# Using co_clustering_optimized model to recommend for the random user and any song\n",
        "user_id = df['user_id'].sample(n=1).iloc[0]\n",
        "song_id = df['song_id'].sample(n=1).iloc[0]\n",
        "\n",
        "predicted_rating = coclustering.predict(user_id, song_id).est\n",
        "print(f'Predicted rating for user {user_id} and item {song_id}: {predicted_rating}')"
      ]
    },
    {
      "cell_type": "markdown",
      "metadata": {
        "id": "5U56oSNsR-F2"
      },
      "source": [
        "### Content Based Recommendation Systems"
      ]
    },
    {
      "cell_type": "code",
      "execution_count": null,
      "metadata": {
        "id": "UX826CsjR-F3"
      },
      "outputs": [],
      "source": [
        "# Concatenate the \"title\", \"release\", \"artist_name\" columns to create a different column named \"text\"\n",
        "df['text'] = df.apply(lambda row: ' '.join(row[['title', 'release', 'artist_name']]), axis=1)"
      ]
    },
    {
      "cell_type": "code",
      "execution_count": null,
      "metadata": {
        "colab": {
          "base_uri": "https://localhost:8080/",
          "height": 247
        },
        "id": "WdXw4U-wR-F4",
        "outputId": "85b3bf80-946f-4bbe-d86a-fd7b11bd5d78"
      },
      "outputs": [
        {
          "data": {
            "text/html": [
              "\n",
              "  <div id=\"df-b0785a5e-abf9-4c31-a467-2062819831b0\" class=\"colab-df-container\">\n",
              "    <div>\n",
              "<style scoped>\n",
              "    .dataframe tbody tr th:only-of-type {\n",
              "        vertical-align: middle;\n",
              "    }\n",
              "\n",
              "    .dataframe tbody tr th {\n",
              "        vertical-align: top;\n",
              "    }\n",
              "\n",
              "    .dataframe thead th {\n",
              "        text-align: right;\n",
              "    }\n",
              "</style>\n",
              "<table border=\"1\" class=\"dataframe\">\n",
              "  <thead>\n",
              "    <tr style=\"text-align: right;\">\n",
              "      <th></th>\n",
              "      <th>user_id</th>\n",
              "      <th>song_id</th>\n",
              "      <th>play_count</th>\n",
              "      <th>release</th>\n",
              "      <th>artist_name</th>\n",
              "      <th>year</th>\n",
              "      <th>text</th>\n",
              "    </tr>\n",
              "    <tr>\n",
              "      <th>title</th>\n",
              "      <th></th>\n",
              "      <th></th>\n",
              "      <th></th>\n",
              "      <th></th>\n",
              "      <th></th>\n",
              "      <th></th>\n",
              "      <th></th>\n",
              "    </tr>\n",
              "  </thead>\n",
              "  <tbody>\n",
              "    <tr>\n",
              "      <th>Rorol</th>\n",
              "      <td>27018</td>\n",
              "      <td>198</td>\n",
              "      <td>20</td>\n",
              "      <td>Identification Parade</td>\n",
              "      <td>Octopus Project</td>\n",
              "      <td>2002</td>\n",
              "      <td>Rorol Identification Parade Octopus Project</td>\n",
              "    </tr>\n",
              "    <tr>\n",
              "      <th>Auto-Dub</th>\n",
              "      <td>27018</td>\n",
              "      <td>248</td>\n",
              "      <td>7</td>\n",
              "      <td>Skream!</td>\n",
              "      <td>Skream</td>\n",
              "      <td>2006</td>\n",
              "      <td>Auto-Dub Skream! Skream</td>\n",
              "    </tr>\n",
              "    <tr>\n",
              "      <th>Hilarious Movie Of The 90s</th>\n",
              "      <td>27018</td>\n",
              "      <td>318</td>\n",
              "      <td>11</td>\n",
              "      <td>Pause</td>\n",
              "      <td>Four Tet</td>\n",
              "      <td>2001</td>\n",
              "      <td>Hilarious Movie Of The 90s Pause Four Tet</td>\n",
              "    </tr>\n",
              "    <tr>\n",
              "      <th>One Minute To Midnight</th>\n",
              "      <td>27018</td>\n",
              "      <td>926</td>\n",
              "      <td>11</td>\n",
              "      <td>Justice</td>\n",
              "      <td>Justice</td>\n",
              "      <td>0</td>\n",
              "      <td>One Minute To Midnight Justice Justice</td>\n",
              "    </tr>\n",
              "    <tr>\n",
              "      <th>Lights &amp; Music</th>\n",
              "      <td>27018</td>\n",
              "      <td>1262</td>\n",
              "      <td>6</td>\n",
              "      <td>Lights &amp; Music</td>\n",
              "      <td>Cut Copy</td>\n",
              "      <td>2008</td>\n",
              "      <td>Lights &amp; Music Lights &amp; Music Cut Copy</td>\n",
              "    </tr>\n",
              "  </tbody>\n",
              "</table>\n",
              "</div>\n",
              "    <div class=\"colab-df-buttons\">\n",
              "\n",
              "  <div class=\"colab-df-container\">\n",
              "    <button class=\"colab-df-convert\" onclick=\"convertToInteractive('df-b0785a5e-abf9-4c31-a467-2062819831b0')\"\n",
              "            title=\"Convert this dataframe to an interactive table.\"\n",
              "            style=\"display:none;\">\n",
              "\n",
              "  <svg xmlns=\"http://www.w3.org/2000/svg\" height=\"24px\" viewBox=\"0 -960 960 960\">\n",
              "    <path d=\"M120-120v-720h720v720H120Zm60-500h600v-160H180v160Zm220 220h160v-160H400v160Zm0 220h160v-160H400v160ZM180-400h160v-160H180v160Zm440 0h160v-160H620v160ZM180-180h160v-160H180v160Zm440 0h160v-160H620v160Z\"/>\n",
              "  </svg>\n",
              "    </button>\n",
              "\n",
              "  <style>\n",
              "    .colab-df-container {\n",
              "      display:flex;\n",
              "      gap: 12px;\n",
              "    }\n",
              "\n",
              "    .colab-df-convert {\n",
              "      background-color: #E8F0FE;\n",
              "      border: none;\n",
              "      border-radius: 50%;\n",
              "      cursor: pointer;\n",
              "      display: none;\n",
              "      fill: #1967D2;\n",
              "      height: 32px;\n",
              "      padding: 0 0 0 0;\n",
              "      width: 32px;\n",
              "    }\n",
              "\n",
              "    .colab-df-convert:hover {\n",
              "      background-color: #E2EBFA;\n",
              "      box-shadow: 0px 1px 2px rgba(60, 64, 67, 0.3), 0px 1px 3px 1px rgba(60, 64, 67, 0.15);\n",
              "      fill: #174EA6;\n",
              "    }\n",
              "\n",
              "    .colab-df-buttons div {\n",
              "      margin-bottom: 4px;\n",
              "    }\n",
              "\n",
              "    [theme=dark] .colab-df-convert {\n",
              "      background-color: #3B4455;\n",
              "      fill: #D2E3FC;\n",
              "    }\n",
              "\n",
              "    [theme=dark] .colab-df-convert:hover {\n",
              "      background-color: #434B5C;\n",
              "      box-shadow: 0px 1px 3px 1px rgba(0, 0, 0, 0.15);\n",
              "      filter: drop-shadow(0px 1px 2px rgba(0, 0, 0, 0.3));\n",
              "      fill: #FFFFFF;\n",
              "    }\n",
              "  </style>\n",
              "\n",
              "    <script>\n",
              "      const buttonEl =\n",
              "        document.querySelector('#df-b0785a5e-abf9-4c31-a467-2062819831b0 button.colab-df-convert');\n",
              "      buttonEl.style.display =\n",
              "        google.colab.kernel.accessAllowed ? 'block' : 'none';\n",
              "\n",
              "      async function convertToInteractive(key) {\n",
              "        const element = document.querySelector('#df-b0785a5e-abf9-4c31-a467-2062819831b0');\n",
              "        const dataTable =\n",
              "          await google.colab.kernel.invokeFunction('convertToInteractive',\n",
              "                                                    [key], {});\n",
              "        if (!dataTable) return;\n",
              "\n",
              "        const docLinkHtml = 'Like what you see? Visit the ' +\n",
              "          '<a target=\"_blank\" href=https://colab.research.google.com/notebooks/data_table.ipynb>data table notebook</a>'\n",
              "          + ' to learn more about interactive tables.';\n",
              "        element.innerHTML = '';\n",
              "        dataTable['output_type'] = 'display_data';\n",
              "        await google.colab.output.renderOutput(dataTable, element);\n",
              "        const docLink = document.createElement('div');\n",
              "        docLink.innerHTML = docLinkHtml;\n",
              "        element.appendChild(docLink);\n",
              "      }\n",
              "    </script>\n",
              "  </div>\n",
              "\n",
              "\n",
              "<div id=\"df-bca7af86-ca9f-4cf2-a6ac-840425c6678b\">\n",
              "  <button class=\"colab-df-quickchart\" onclick=\"quickchart('df-bca7af86-ca9f-4cf2-a6ac-840425c6678b')\"\n",
              "            title=\"Suggest charts\"\n",
              "            style=\"display:none;\">\n",
              "\n",
              "<svg xmlns=\"http://www.w3.org/2000/svg\" height=\"24px\"viewBox=\"0 0 24 24\"\n",
              "     width=\"24px\">\n",
              "    <g>\n",
              "        <path d=\"M19 3H5c-1.1 0-2 .9-2 2v14c0 1.1.9 2 2 2h14c1.1 0 2-.9 2-2V5c0-1.1-.9-2-2-2zM9 17H7v-7h2v7zm4 0h-2V7h2v10zm4 0h-2v-4h2v4z\"/>\n",
              "    </g>\n",
              "</svg>\n",
              "  </button>\n",
              "\n",
              "<style>\n",
              "  .colab-df-quickchart {\n",
              "      --bg-color: #E8F0FE;\n",
              "      --fill-color: #1967D2;\n",
              "      --hover-bg-color: #E2EBFA;\n",
              "      --hover-fill-color: #174EA6;\n",
              "      --disabled-fill-color: #AAA;\n",
              "      --disabled-bg-color: #DDD;\n",
              "  }\n",
              "\n",
              "  [theme=dark] .colab-df-quickchart {\n",
              "      --bg-color: #3B4455;\n",
              "      --fill-color: #D2E3FC;\n",
              "      --hover-bg-color: #434B5C;\n",
              "      --hover-fill-color: #FFFFFF;\n",
              "      --disabled-bg-color: #3B4455;\n",
              "      --disabled-fill-color: #666;\n",
              "  }\n",
              "\n",
              "  .colab-df-quickchart {\n",
              "    background-color: var(--bg-color);\n",
              "    border: none;\n",
              "    border-radius: 50%;\n",
              "    cursor: pointer;\n",
              "    display: none;\n",
              "    fill: var(--fill-color);\n",
              "    height: 32px;\n",
              "    padding: 0;\n",
              "    width: 32px;\n",
              "  }\n",
              "\n",
              "  .colab-df-quickchart:hover {\n",
              "    background-color: var(--hover-bg-color);\n",
              "    box-shadow: 0 1px 2px rgba(60, 64, 67, 0.3), 0 1px 3px 1px rgba(60, 64, 67, 0.15);\n",
              "    fill: var(--button-hover-fill-color);\n",
              "  }\n",
              "\n",
              "  .colab-df-quickchart-complete:disabled,\n",
              "  .colab-df-quickchart-complete:disabled:hover {\n",
              "    background-color: var(--disabled-bg-color);\n",
              "    fill: var(--disabled-fill-color);\n",
              "    box-shadow: none;\n",
              "  }\n",
              "\n",
              "  .colab-df-spinner {\n",
              "    border: 2px solid var(--fill-color);\n",
              "    border-color: transparent;\n",
              "    border-bottom-color: var(--fill-color);\n",
              "    animation:\n",
              "      spin 1s steps(1) infinite;\n",
              "  }\n",
              "\n",
              "  @keyframes spin {\n",
              "    0% {\n",
              "      border-color: transparent;\n",
              "      border-bottom-color: var(--fill-color);\n",
              "      border-left-color: var(--fill-color);\n",
              "    }\n",
              "    20% {\n",
              "      border-color: transparent;\n",
              "      border-left-color: var(--fill-color);\n",
              "      border-top-color: var(--fill-color);\n",
              "    }\n",
              "    30% {\n",
              "      border-color: transparent;\n",
              "      border-left-color: var(--fill-color);\n",
              "      border-top-color: var(--fill-color);\n",
              "      border-right-color: var(--fill-color);\n",
              "    }\n",
              "    40% {\n",
              "      border-color: transparent;\n",
              "      border-right-color: var(--fill-color);\n",
              "      border-top-color: var(--fill-color);\n",
              "    }\n",
              "    60% {\n",
              "      border-color: transparent;\n",
              "      border-right-color: var(--fill-color);\n",
              "    }\n",
              "    80% {\n",
              "      border-color: transparent;\n",
              "      border-right-color: var(--fill-color);\n",
              "      border-bottom-color: var(--fill-color);\n",
              "    }\n",
              "    90% {\n",
              "      border-color: transparent;\n",
              "      border-bottom-color: var(--fill-color);\n",
              "    }\n",
              "  }\n",
              "</style>\n",
              "\n",
              "  <script>\n",
              "    async function quickchart(key) {\n",
              "      const quickchartButtonEl =\n",
              "        document.querySelector('#' + key + ' button');\n",
              "      quickchartButtonEl.disabled = true;  // To prevent multiple clicks.\n",
              "      quickchartButtonEl.classList.add('colab-df-spinner');\n",
              "      try {\n",
              "        const charts = await google.colab.kernel.invokeFunction(\n",
              "            'suggestCharts', [key], {});\n",
              "      } catch (error) {\n",
              "        console.error('Error during call to suggestCharts:', error);\n",
              "      }\n",
              "      quickchartButtonEl.classList.remove('colab-df-spinner');\n",
              "      quickchartButtonEl.classList.add('colab-df-quickchart-complete');\n",
              "    }\n",
              "    (() => {\n",
              "      let quickchartButtonEl =\n",
              "        document.querySelector('#df-bca7af86-ca9f-4cf2-a6ac-840425c6678b button');\n",
              "      quickchartButtonEl.style.display =\n",
              "        google.colab.kernel.accessAllowed ? 'block' : 'none';\n",
              "    })();\n",
              "  </script>\n",
              "</div>\n",
              "\n",
              "    </div>\n",
              "  </div>\n"
            ],
            "text/plain": [
              "                            user_id  song_id  play_count  \\\n",
              "title                                                      \n",
              "Rorol                         27018      198          20   \n",
              "Auto-Dub                      27018      248           7   \n",
              "Hilarious Movie Of The 90s    27018      318          11   \n",
              "One Minute To Midnight        27018      926          11   \n",
              "Lights & Music                27018     1262           6   \n",
              "\n",
              "                                          release      artist_name  year  \\\n",
              "title                                                                      \n",
              "Rorol                       Identification Parade  Octopus Project  2002   \n",
              "Auto-Dub                                  Skream!           Skream  2006   \n",
              "Hilarious Movie Of The 90s                  Pause         Four Tet  2001   \n",
              "One Minute To Midnight                    Justice          Justice     0   \n",
              "Lights & Music                     Lights & Music         Cut Copy  2008   \n",
              "\n",
              "                                                                   text  \n",
              "title                                                                    \n",
              "Rorol                       Rorol Identification Parade Octopus Project  \n",
              "Auto-Dub                                        Auto-Dub Skream! Skream  \n",
              "Hilarious Movie Of The 90s    Hilarious Movie Of The 90s Pause Four Tet  \n",
              "One Minute To Midnight           One Minute To Midnight Justice Justice  \n",
              "Lights & Music                   Lights & Music Lights & Music Cut Copy  "
            ]
          },
          "execution_count": 35,
          "metadata": {},
          "output_type": "execute_result"
        }
      ],
      "source": [
        "# Select the columns 'user_id', 'song_id', 'play_count', 'title', 'text' from df data\n",
        "selected_columns = df[['user_id', 'song_id', 'play_count', 'title', 'text']]\n",
        "\n",
        "# Drop the duplicates from the title column\n",
        "df_small = df.drop_duplicates(subset='title')\n",
        "\n",
        "# Set the title column as the index\n",
        "df_small = df_small.set_index('title')\n",
        "\n",
        "# See the first 5 records of the df_small dataset\n",
        "df_small.head()"
      ]
    },
    {
      "cell_type": "code",
      "execution_count": null,
      "metadata": {
        "id": "qDcYHwZTR-F5"
      },
      "outputs": [],
      "source": [
        "# Create the series of indices from the data\n",
        "df_small_index = df_small.index"
      ]
    },
    {
      "cell_type": "code",
      "execution_count": null,
      "metadata": {
        "colab": {
          "base_uri": "https://localhost:8080/"
        },
        "id": "9UINF3Nwvwfr",
        "outputId": "e0ab4436-deba-43cf-bd7f-096235347cb8"
      },
      "outputs": [
        {
          "name": "stdout",
          "output_type": "stream",
          "text": [
            "Requirement already satisfied: nltk in /usr/local/lib/python3.10/dist-packages (3.8.1)\n",
            "Requirement already satisfied: click in /usr/local/lib/python3.10/dist-packages (from nltk) (8.1.7)\n",
            "Requirement already satisfied: joblib in /usr/local/lib/python3.10/dist-packages (from nltk) (1.3.2)\n",
            "Requirement already satisfied: regex>=2021.8.3 in /usr/local/lib/python3.10/dist-packages (from nltk) (2023.6.3)\n",
            "Requirement already satisfied: tqdm in /usr/local/lib/python3.10/dist-packages (from nltk) (4.66.1)\n"
          ]
        },
        {
          "name": "stderr",
          "output_type": "stream",
          "text": [
            "[nltk_data] Downloading package punkt to /root/nltk_data...\n",
            "[nltk_data]   Package punkt is already up-to-date!\n"
          ]
        },
        {
          "name": "stdout",
          "output_type": "stream",
          "text": [
            "Requirement already satisfied: wordnet in /usr/local/lib/python3.10/dist-packages (0.0.1b2)\n",
            "Requirement already satisfied: colorama==0.3.9 in /usr/local/lib/python3.10/dist-packages (from wordnet) (0.3.9)\n"
          ]
        },
        {
          "name": "stderr",
          "output_type": "stream",
          "text": [
            "[nltk_data] Downloading package wordnet to /root/nltk_data...\n",
            "[nltk_data]   Package wordnet is already up-to-date!\n"
          ]
        },
        {
          "name": "stdout",
          "output_type": "stream",
          "text": [
            "Requirement already satisfied: stopwords in /usr/local/lib/python3.10/dist-packages (1.0.0)\n"
          ]
        },
        {
          "name": "stderr",
          "output_type": "stream",
          "text": [
            "[nltk_data] Downloading package stopwords to /root/nltk_data...\n",
            "[nltk_data]   Package stopwords is already up-to-date!\n"
          ]
        }
      ],
      "source": [
        "# Importing necessary packages to work with text data\n",
        "import nltk\n",
        "\n",
        "# Download punkt library\n",
        "!pip install nltk\n",
        "nltk.download('punkt')\n",
        "!pip install wordnet\n",
        "nltk.download('wordnet')\n",
        "!pip install stopwords\n",
        "nltk.download('stopwords')\n",
        "\n",
        "import re\n",
        "from nltk.tokenize import word_tokenize\n",
        "from nltk.stem import WordNetLemmatizer\n",
        "from nltk.corpus import stopwords\n",
        "from sklearn.feature_extraction.text import CountVectorizer, TfidfVectorizer\n",
        "from nltk.stem import PorterStemmer\n"
      ]
    },
    {
      "cell_type": "markdown",
      "metadata": {
        "id": "Jt2vitlnhoEg"
      },
      "source": [
        "Create a **function to pre-process the text data:**"
      ]
    },
    {
      "cell_type": "code",
      "execution_count": null,
      "metadata": {
        "colab": {
          "base_uri": "https://localhost:8080/"
        },
        "id": "j5QSSeUvR-F6",
        "outputId": "7de7f96c-a077-424d-9f60-344f332743a1"
      },
      "outputs": [
        {
          "name": "stdout",
          "output_type": "stream",
          "text": [
            "                            user_id  song_id  play_count  \\\n",
            "title                                                      \n",
            "Rorol                         27018      198          20   \n",
            "Auto-Dub                      27018      248           7   \n",
            "Hilarious Movie Of The 90s    27018      318          11   \n",
            "One Minute To Midnight        27018      926          11   \n",
            "Lights & Music                27018     1262           6   \n",
            "\n",
            "                                          release      artist_name  year  \\\n",
            "title                                                                      \n",
            "Rorol                       Identification Parade  Octopus Project  2002   \n",
            "Auto-Dub                                  Skream!           Skream  2006   \n",
            "Hilarious Movie Of The 90s                  Pause         Four Tet  2001   \n",
            "One Minute To Midnight                    Justice          Justice     0   \n",
            "Lights & Music                     Lights & Music         Cut Copy  2008   \n",
            "\n",
            "                                                                   text  \\\n",
            "title                                                                     \n",
            "Rorol                       Rorol Identification Parade Octopus Project   \n",
            "Auto-Dub                                        Auto-Dub Skream! Skream   \n",
            "Hilarious Movie Of The 90s    Hilarious Movie Of The 90s Pause Four Tet   \n",
            "One Minute To Midnight           One Minute To Midnight Justice Justice   \n",
            "Lights & Music                   Lights & Music Lights & Music Cut Copy   \n",
            "\n",
            "                                                  processed_text  \n",
            "title                                                             \n",
            "Rorol                         rorol identif parad octopu project  \n",
            "Auto-Dub                                auto-dub skream ! skream  \n",
            "Hilarious Movie Of The 90s   hilari movi of the 90 paus four tet  \n",
            "One Minute To Midnight       one minut to midnight justic justic  \n",
            "Lights & Music              light & music light & music cut copi  \n"
          ]
        }
      ],
      "source": [
        "from nltk.sem.drt import Tokens\n",
        "# Create a function to tokenize the text\n",
        "def preprocess_text(text):\n",
        "    # Tokenize the text\n",
        "    tokens = word_tokenize(text)\n",
        "\n",
        "    # Remove stopwords and stem the words\n",
        "    stop_words = set(stopwords.words('english'))\n",
        "    stemmer = PorterStemmer()\n",
        "\n",
        "    processed_tokens = [stemmer.stem(word) for word in tokens if word not in stop_words]\n",
        "\n",
        "    # Return the processed text\n",
        "    return ' '.join(processed_tokens)\n",
        "\n",
        "df_small['processed_text'] = df_small['text'].apply(preprocess_text)\n",
        "\n",
        "# See the first 5 records of the df_small dataset\n",
        "print(df_small.head())"
      ]
    },
    {
      "cell_type": "code",
      "execution_count": null,
      "metadata": {
        "colab": {
          "base_uri": "https://localhost:8080/"
        },
        "id": "RI_onIGdR-F6",
        "outputId": "001ed1c8-8876-4d6e-9c28-ed71e7f2db5a"
      },
      "outputs": [
        {
          "name": "stdout",
          "output_type": "stream",
          "text": [
            "Feature names: ['08' '09' '15' ... 'zapotec' 'zero' 'éxito']\n"
          ]
        }
      ],
      "source": [
        "# Create tfidf vectorizer\n",
        "tfidf_vectorizer = TfidfVectorizer(stop_words='english')\n",
        "# Fit_transfrom the above vectorizer on the text column and then convert the output into an array\n",
        "tfidf_matrix = tfidf_vectorizer.fit_transform(df_small['processed_text'])\n",
        "\n",
        "# Get the feature names\n",
        "feature_names = tfidf_vectorizer.get_feature_names_out()\n",
        "\n",
        "# Convert the TF-IDF matrix to an array and print it\n",
        "tfidf_array = tfidf_matrix.toarray()\n",
        "\n",
        "print(\"Feature names:\", feature_names)"
      ]
    },
    {
      "cell_type": "code",
      "execution_count": null,
      "metadata": {
        "colab": {
          "base_uri": "https://localhost:8080/"
        },
        "id": "Beak6ODRR-F7",
        "outputId": "7261b94a-7254-4997-ab52-2994aefb3620"
      },
      "outputs": [
        {
          "name": "stdout",
          "output_type": "stream",
          "text": [
            "[[1.         0.         0.         ... 0.         0.         0.        ]\n",
            " [0.         1.         0.         ... 0.         0.         0.        ]\n",
            " [0.         0.         1.         ... 0.         0.         0.        ]\n",
            " ...\n",
            " [0.         0.         0.         ... 1.         0.         0.        ]\n",
            " [0.         0.         0.         ... 0.         1.         0.46289441]\n",
            " [0.         0.         0.         ... 0.         0.46289441 1.        ]]\n"
          ]
        }
      ],
      "source": [
        "# Compute the cosine similarity for the tfidf above output\n",
        "cosine_sim = cosine_similarity(tfidf_matrix, tfidf_matrix)\n",
        "print(cosine_sim)"
      ]
    },
    {
      "cell_type": "markdown",
      "metadata": {
        "id": "3Jjo3UHKhoEh"
      },
      "source": [
        " Finally, Create a function to find most similar songs to recommend for a given song."
      ]
    },
    {
      "cell_type": "code",
      "execution_count": null,
      "metadata": {
        "id": "upANOISkR-F8"
      },
      "outputs": [],
      "source": [
        "# Function that takes in song title as input and returns the top 10 recommended songs\n",
        "def get_similar_songs(title, cosine_sim, df, top_n=10):\n",
        "    \"\"\"\n",
        "    Get the most similar songs for a given song title based on cosine similarity.\n",
        "\n",
        "    Args:\n",
        "    title (str): The title of the song.\n",
        "    cosine_sim (numpy.ndarray): The cosine similarity matrix.\n",
        "    df (pd.DataFrame): DataFrame containing the song titles.\n",
        "    top_n (int): Number of top similar songs to return.\n",
        "\n",
        "    Returns:\n",
        "    list: A list of top_n similar song titles.\n",
        "    \"\"\"\n",
        "    # Check if the song is in the DataFrame\n",
        "    if title not in df.index:\n",
        "        raise ValueError(f\"Song '{title}' not found in the dataset.\")\n",
        "\n",
        "    # Get the index of the song\n",
        "    idx = df.index.get_loc(title)\n",
        "\n",
        "    # Get the cosine similarity scores for this song with all songs\n",
        "    sim_scores = list(enumerate(cosine_sim[idx]))\n",
        "\n",
        "    # Sort the songs based on the similarity scores\n",
        "    sim_scores = sorted(sim_scores, key=lambda x: x[1], reverse=True)\n",
        "\n",
        "    # Get the scores of the top_n most similar songs (excluding itself)\n",
        "    sim_scores = sim_scores[1:top_n+1]\n",
        "\n",
        "    # Get the song indices\n",
        "    song_indices = [i[0] for i in sim_scores]\n",
        "\n",
        "    # Return the top_n most similar songs\n",
        "    return df.iloc[song_indices].index.tolist()\n"
      ]
    },
    {
      "cell_type": "markdown",
      "metadata": {
        "id": "o4EINBmkR-F8"
      },
      "source": [
        "Recommending 10 songs similar to Learn to Fly"
      ]
    },
    {
      "cell_type": "code",
      "execution_count": null,
      "metadata": {
        "colab": {
          "base_uri": "https://localhost:8080/"
        },
        "id": "ohEK5dkVR-F8",
        "outputId": "a18cff82-cf9b-448a-c08b-03bba49b49a9"
      },
      "outputs": [
        {
          "name": "stdout",
          "output_type": "stream",
          "text": [
            "Songs similar to 'Feel The Love':\n",
            "Out There On The Ice\n",
            "Far Away\n",
            "Strangers In The Wind\n",
            "Hearts On Fire\n",
            "Lights & Music\n"
          ]
        }
      ],
      "source": [
        "# Make the recommendation for the song with title 'Feel The Love'\n",
        "song_title = 'Feel The Love'\n",
        "similar_songs = get_similar_songs(song_title, cosine_sim, df_small, top_n=5)\n",
        "\n",
        "print(f\"Songs similar to '{song_title}':\")\n",
        "for song in similar_songs:\n",
        "    print(song)"
      ]
    }
  ],
  "metadata": {
    "colab": {
      "collapsed_sections": [
        "BVUiyhYTHS1t",
        "bUGKX140wf-S",
        "12TKB2M7XyC6",
        "bvKb5FHcXzcN",
        "uZcr1Eke2T9W",
        "Ituk9wA4Idib",
        "gf13HrPPJeWT",
        "QgbzJKk7Tsnr",
        "57b31de5",
        "c2fd66f5",
        "5U56oSNsR-F2"
      ],
      "machine_shape": "hm",
      "provenance": [],
      "include_colab_link": true
    },
    "kernelspec": {
      "display_name": "Python 3 (ipykernel)",
      "language": "python",
      "name": "python3"
    },
    "language_info": {
      "codemirror_mode": {
        "name": "ipython",
        "version": 3
      },
      "file_extension": ".py",
      "mimetype": "text/x-python",
      "name": "python",
      "nbconvert_exporter": "python",
      "pygments_lexer": "ipython3",
      "version": "3.10.9"
    }
  },
  "nbformat": 4,
  "nbformat_minor": 0
}